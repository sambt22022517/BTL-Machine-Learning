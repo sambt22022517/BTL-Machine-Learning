{
 "cells": [
  {
   "cell_type": "code",
   "execution_count": 1,
   "id": "05e1f572",
   "metadata": {},
   "outputs": [],
   "source": [
    "import pandas as pd\n",
    "import numpy as np\n",
    "import seaborn as sbn"
   ]
  },
  {
   "cell_type": "code",
   "execution_count": 7,
   "id": "edc5a98e",
   "metadata": {},
   "outputs": [],
   "source": [
    "df = pd.read_csv('Cleaned_Data.csv')"
   ]
  },
  {
   "cell_type": "code",
   "execution_count": 8,
   "id": "cefe8873",
   "metadata": {},
   "outputs": [],
   "source": [
    "df = df.dropna(subset=['Writer'])"
   ]
  },
  {
   "cell_type": "code",
   "execution_count": 9,
   "id": "6e3b065f",
   "metadata": {},
   "outputs": [
    {
     "name": "stderr",
     "output_type": "stream",
     "text": [
      "[nltk_data] Downloading package stopwords to\n",
      "[nltk_data]     C:\\Users\\kingk\\AppData\\Roaming\\nltk_data...\n",
      "[nltk_data]   Package stopwords is already up-to-date!\n"
     ]
    },
    {
     "data": {
      "text/plain": [
       "array(['PG-13', 'Unrated', 'PG', 'R', 'G', 'TV-14', 'TV-MA', 'TV-PG',\n",
       "       'NC-17', 'TV-Y7', 'TV-G', 'C13', 'Approved', 'C18', 'C16', 'C12',\n",
       "       'MA-17', 'TV-Y7-FV', 'AO', 'TV-Y', 'M', '(Banned)', 'C6', 'PG-12',\n",
       "       'GP', 'U', 'C7', 'C15', 'AL', 'C9'], dtype=object)"
      ]
     },
     "execution_count": 9,
     "metadata": {},
     "output_type": "execute_result"
    }
   ],
   "source": [
    "import re\n",
    "import nltk\n",
    "nltk.download('stopwords')\n",
    "\n",
    "from nltk.corpus import stopwords\n",
    "stopwords_list = stopwords.words('english')\n",
    "\n",
    "stopwords_list\n",
    "stopwords_list.append(\" \")\n",
    "stopwords_list.append(\"\")\n",
    "stopwords_list.extend([chr(i) for i in range(ord('a'), ord('z') + 1)])\n",
    "\n",
    "# Define a function to split text into words and remove specified words\n",
    "def split_into_words_and_remove_stopwords(text, stopwords):\n",
    "    # Split text using various separators (space, period, comma)\n",
    "    words = re.split(r'\\s+|[,\\.:!?\"&]', text)\n",
    "    # Remove specified stopwords from the list\n",
    "    words = [word.lower() for word in words if word.lower() not in stopwords]\n",
    "    return words\n",
    "\n",
    "\n",
    "# Apply the function to the \"storyline\" column\n",
    "df['Storyline'] = df['Storyline'].apply(lambda x: split_into_words_and_remove_stopwords(x, stopwords_list))\n",
    "df['Genre'] = df['Genre'].apply(lambda x: split_into_words_and_remove_stopwords(x, stopwords_list))\n",
    "df['Stars'] = df['Stars'].apply(lambda x: x.split(','))\n",
    "df['Writer'] = df['Writer'].apply(lambda x: x.split(','))\n",
    "\n",
    "# Display the DataFrame\n",
    "df['Certificate'].unique()\n"
   ]
  },
  {
   "cell_type": "code",
   "execution_count": 23,
   "id": "7f56bb21",
   "metadata": {},
   "outputs": [
    {
     "name": "stderr",
     "output_type": "stream",
     "text": [
      "C:\\Users\\kingk\\AppData\\Local\\Temp\\ipykernel_5824\\1224251463.py:2: SettingWithCopyWarning: \n",
      "A value is trying to be set on a copy of a slice from a DataFrame.\n",
      "Try using .loc[row_indexer,col_indexer] = value instead\n",
      "\n",
      "See the caveats in the documentation: https://pandas.pydata.org/pandas-docs/stable/user_guide/indexing.html#returning-a-view-versus-a-copy\n",
      "  df_cat['Drama'] = ['drama' in value for value in df_cat['Genre'].values]\n"
     ]
    },
    {
     "data": {
      "text/plain": [
       "array(['PG-13', 'Unrated', 'PG', 'R', 'G', 'TV-14', 'TV-MA', 'TV-PG',\n",
       "       'NC-17', 'TV-Y7', 'TV-G', 'C13', 'Approved', 'C18', 'C16', 'C12',\n",
       "       'MA-17', 'TV-Y7-FV', 'AO', 'TV-Y', 'M', '(Banned)', 'C6', 'PG-12',\n",
       "       'GP', 'U', 'C7', 'C15', 'AL', 'C9'], dtype=object)"
      ]
     },
     "execution_count": 23,
     "metadata": {},
     "output_type": "execute_result"
    }
   ],
   "source": [
    "df_cat = df[['Certificate', 'Director', 'Rating', 'Rating Count', 'Genre']]\n",
    "df_cat['Drama'] = ['drama' in value for value in df_cat['Genre'].values]\n",
    "df_cat['Certificate'].unique()"
   ]
  },
  {
   "cell_type": "code",
   "execution_count": 26,
   "id": "8deb9a66",
   "metadata": {},
   "outputs": [
    {
     "name": "stderr",
     "output_type": "stream",
     "text": [
      "C:\\Users\\kingk\\AppData\\Local\\Programs\\Python\\Python310\\lib\\site-packages\\sklearn\\svm\\_classes.py:32: FutureWarning: The default value of `dual` will change from `True` to `'auto'` in 1.5. Set the value of `dual` explicitly to suppress the warning.\n",
      "  warnings.warn(\n"
     ]
    },
    {
     "name": "stdout",
     "output_type": "stream",
     "text": [
      "Accuracy: 0.6896331058020477\n",
      "Precision: 0.7065826330532213\n",
      "Recall: 0.7658444022770399\n",
      "F1-score: 0.735020943361865\n"
     ]
    },
    {
     "name": "stderr",
     "output_type": "stream",
     "text": [
      "C:\\Users\\kingk\\AppData\\Local\\Programs\\Python\\Python310\\lib\\site-packages\\sklearn\\svm\\_base.py:1250: ConvergenceWarning: Liblinear failed to converge, increase the number of iterations.\n",
      "  warnings.warn(\n"
     ]
    }
   ],
   "source": [
    "from sklearn.metrics import accuracy_score, precision_score, recall_score, f1_score\n",
    "from sklearn.model_selection import train_test_split\n",
    "from sklearn.svm import LinearSVC\n",
    "from sklearn.preprocessing import StandardScaler, OneHotEncoder\n",
    "from sklearn.compose import ColumnTransformer\n",
    "from sklearn.pipeline import Pipeline\n",
    "\n",
    "# Xử lý đặc trưng trước khi tách ra thành tập huấn luyện và tập kiểm tra\n",
    "numeric_features = ['Rating', 'Rating Count']\n",
    "categorical_features = ['Certificate', 'Director']\n",
    "\n",
    "numeric_transformer = Pipeline(steps=[\n",
    "    ('scaler', StandardScaler())\n",
    "])\n",
    "\n",
    "categorical_transformer = Pipeline(steps=[\n",
    "    ('onehot', OneHotEncoder(handle_unknown='ignore'))\n",
    "])\n",
    "\n",
    "preprocessor = ColumnTransformer(\n",
    "    transformers=[\n",
    "        ('num', numeric_transformer, numeric_features),\n",
    "        ('cat', categorical_transformer, categorical_features)\n",
    "    ])\n",
    "\n",
    "# Tách ra thành X (đặc trưng) và y (nhãn)\n",
    "X = df_cat[['Certificate', 'Director', 'Rating', 'Rating Count']]\n",
    "y = df_cat['Drama']\n",
    "\n",
    "# Áp dụng xử lý đặc trưng cho toàn bộ dữ liệu\n",
    "X_preprocessed = preprocessor.fit_transform(X)\n",
    "\n",
    "# Chia thành tập huấn luyện và tập kiểm tra\n",
    "X_train, X_test, y_train, y_test = train_test_split(X_preprocessed, y, test_size=0.2, random_state=42)\n",
    "\n",
    "# Tạo pipeline cho mô hình\n",
    "model = Pipeline(steps=[\n",
    "    ('classifier', LinearSVC())\n",
    "])\n",
    "\n",
    "# Huấn luyện mô hình trên tập huấn luyện\n",
    "model.fit(X_train, y_train)\n",
    "\n",
    "# Dự đoán trên tập kiểm tra\n",
    "y_pred = model.predict(X_test)\n",
    "\n",
    "# Đánh giá mô hình\n",
    "accuracy = accuracy_score(y_test, y_pred)\n",
    "precision = precision_score(y_test, y_pred)\n",
    "recall = recall_score(y_test, y_pred)\n",
    "f1 = f1_score(y_test, y_pred)\n",
    "\n",
    "print(f'Accuracy: {accuracy}')\n",
    "print(f'Precision: {precision}')\n",
    "print(f'Recall: {recall}')\n",
    "print(f'F1-score: {f1}')"
   ]
  },
  {
   "cell_type": "code",
   "execution_count": null,
   "id": "c8812f1e",
   "metadata": {},
   "outputs": [],
   "source": []
  }
 ],
 "metadata": {
  "kernelspec": {
   "display_name": "Python 3 (ipykernel)",
   "language": "python",
   "name": "python3"
  },
  "language_info": {
   "codemirror_mode": {
    "name": "ipython",
    "version": 3
   },
   "file_extension": ".py",
   "mimetype": "text/x-python",
   "name": "python",
   "nbconvert_exporter": "python",
   "pygments_lexer": "ipython3",
   "version": "3.10.6"
  }
 },
 "nbformat": 4,
 "nbformat_minor": 5
}
