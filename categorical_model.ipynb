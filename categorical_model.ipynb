{
 "cells": [
  {
   "cell_type": "code",
   "execution_count": 1,
   "id": "fa091725",
   "metadata": {},
   "outputs": [],
   "source": [
    "import pandas as pd\n",
    "import numpy as np\n",
    "import seaborn as sbn\n",
    "import matplotlib.pyplot as plt\n",
    "from sklearn import tree\n",
    "from sklearn import svm\n",
    "from sklearn.feature_extraction.text import TfidfVectorizer\n",
    "from sklearn.metrics import accuracy_score, precision_score, recall_score, f1_score\n",
    "from sklearn.model_selection import train_test_split\n",
    "from sklearn.linear_model import LogisticRegression\n",
    "from sklearn.preprocessing import StandardScaler, OneHotEncoder\n",
    "from sklearn.compose import ColumnTransformer\n",
    "from sklearn.pipeline import Pipeline\n",
    "from sklearn.utils import shuffle\n",
    "from imblearn.pipeline import make_pipeline\n",
    "from imblearn.over_sampling import RandomOverSampler\n"
   ]
  },
  {
   "cell_type": "code",
   "execution_count": 2,
   "id": "800346fb",
   "metadata": {},
   "outputs": [],
   "source": [
    "df = pd.read_csv('Cleaned_Data.csv')\n",
    "test = pd.read_csv('Cleaned_Data.csv').tail(3778)"
   ]
  },
  {
   "cell_type": "code",
   "execution_count": 3,
   "id": "2ccdffd6",
   "metadata": {},
   "outputs": [
    {
     "data": {
      "text/html": [
       "<div>\n",
       "<style scoped>\n",
       "    .dataframe tbody tr th:only-of-type {\n",
       "        vertical-align: middle;\n",
       "    }\n",
       "\n",
       "    .dataframe tbody tr th {\n",
       "        vertical-align: top;\n",
       "    }\n",
       "\n",
       "    .dataframe thead th {\n",
       "        text-align: right;\n",
       "    }\n",
       "</style>\n",
       "<table border=\"1\" class=\"dataframe\">\n",
       "  <thead>\n",
       "    <tr style=\"text-align: right;\">\n",
       "      <th></th>\n",
       "      <th>Name</th>\n",
       "      <th>Certificate</th>\n",
       "      <th>Poster</th>\n",
       "      <th>Genre</th>\n",
       "      <th>Director</th>\n",
       "      <th>Writer</th>\n",
       "      <th>Stars</th>\n",
       "      <th>Storyline</th>\n",
       "      <th>Rating</th>\n",
       "      <th>Rating Count</th>\n",
       "    </tr>\n",
       "  </thead>\n",
       "  <tbody>\n",
       "    <tr>\n",
       "      <th>0</th>\n",
       "      <td>The Dark Knight</td>\n",
       "      <td>PG-13</td>\n",
       "      <td>https://m.media-amazon.com/images/M/MV5BMTMxNT...</td>\n",
       "      <td>Action, Crime, Drama</td>\n",
       "      <td>Christopher Nolan</td>\n",
       "      <td>Jonathan Nolan, Christopher Nolan, David S. Goyer</td>\n",
       "      <td>Christian Bale, Heath Ledger, Aaron Eckhart, M...</td>\n",
       "      <td>When the menace known as the Joker wreaks havo...</td>\n",
       "      <td>9.0</td>\n",
       "      <td>2800000.0</td>\n",
       "    </tr>\n",
       "    <tr>\n",
       "      <th>1</th>\n",
       "      <td>The Lord of the Rings: The Return of the King</td>\n",
       "      <td>PG-13</td>\n",
       "      <td>https://m.media-amazon.com/images/M/MV5BNzA5ZD...</td>\n",
       "      <td>Action, Adventure, Drama</td>\n",
       "      <td>Peter Jackson</td>\n",
       "      <td>J.R.R. Tolkien, Fran Walsh, Philippa Boyens</td>\n",
       "      <td>Elijah Wood, Viggo Mortensen, Ian McKellen, Or...</td>\n",
       "      <td>Gandalf and Aragorn lead the World of Men agai...</td>\n",
       "      <td>9.0</td>\n",
       "      <td>1900000.0</td>\n",
       "    </tr>\n",
       "    <tr>\n",
       "      <th>2</th>\n",
       "      <td>Dr. Babasaheb Ambedkar</td>\n",
       "      <td>Unrated</td>\n",
       "      <td>https://m.media-amazon.com/images/M/MV5BNGNjZD...</td>\n",
       "      <td>Biography, History</td>\n",
       "      <td>Jabbar Patel</td>\n",
       "      <td>Daya Pawar, Arun Sadhu, Sooni Taraporevala</td>\n",
       "      <td>Mammootty, Sonali Kulkarni, Mohan Gokhale, Mri...</td>\n",
       "      <td>Biopic of B. R. Ambedkar, known mainly for his...</td>\n",
       "      <td>8.9</td>\n",
       "      <td>2700.0</td>\n",
       "    </tr>\n",
       "    <tr>\n",
       "      <th>3</th>\n",
       "      <td>The Lord of the Rings: The Fellowship of the Ring</td>\n",
       "      <td>PG-13</td>\n",
       "      <td>https://m.media-amazon.com/images/M/MV5BN2EyZj...</td>\n",
       "      <td>Action, Adventure, Drama</td>\n",
       "      <td>Peter Jackson</td>\n",
       "      <td>J.R.R. Tolkien, Fran Walsh, Philippa Boyens</td>\n",
       "      <td>Elijah Wood, Ian McKellen, Orlando Bloom, Sean...</td>\n",
       "      <td>A meek Hobbit from the Shire and eight compani...</td>\n",
       "      <td>8.8</td>\n",
       "      <td>2000000.0</td>\n",
       "    </tr>\n",
       "    <tr>\n",
       "      <th>4</th>\n",
       "      <td>The Lord of the Rings: The Two Towers</td>\n",
       "      <td>PG-13</td>\n",
       "      <td>https://m.media-amazon.com/images/M/MV5BZGMxZT...</td>\n",
       "      <td>Action, Adventure, Drama</td>\n",
       "      <td>Peter Jackson</td>\n",
       "      <td>J.R.R. Tolkien, Fran Walsh, Philippa Boyens</td>\n",
       "      <td>Elijah Wood, Ian McKellen, Viggo Mortensen, Or...</td>\n",
       "      <td>While Frodo and Sam edge closer to Mordor with...</td>\n",
       "      <td>8.8</td>\n",
       "      <td>1700000.0</td>\n",
       "    </tr>\n",
       "    <tr>\n",
       "      <th>...</th>\n",
       "      <td>...</td>\n",
       "      <td>...</td>\n",
       "      <td>...</td>\n",
       "      <td>...</td>\n",
       "      <td>...</td>\n",
       "      <td>...</td>\n",
       "      <td>...</td>\n",
       "      <td>...</td>\n",
       "      <td>...</td>\n",
       "      <td>...</td>\n",
       "    </tr>\n",
       "    <tr>\n",
       "      <th>23773</th>\n",
       "      <td>The Lives of Mount Druitt Youth</td>\n",
       "      <td>Unrated</td>\n",
       "      <td>https://m.media-amazon.com/images/M/MV5BMTI4MT...</td>\n",
       "      <td>Documentary, Drama</td>\n",
       "      <td>Saad Adam</td>\n",
       "      <td>NaN</td>\n",
       "      <td>Drew Pearson, Saad Adam, Evan Adam</td>\n",
       "      <td>Come with Saad as he visits Mount Druitt &amp;amp;...</td>\n",
       "      <td>4.8</td>\n",
       "      <td>1531.0</td>\n",
       "    </tr>\n",
       "    <tr>\n",
       "      <th>23774</th>\n",
       "      <td>Hich</td>\n",
       "      <td>Unrated</td>\n",
       "      <td>https://m.media-amazon.com/images/M/MV5BYTY0Y2...</td>\n",
       "      <td>Comedy, Drama</td>\n",
       "      <td>Abdolreza Kahani</td>\n",
       "      <td>Abdolreza Kahani, Hossein Mahkam</td>\n",
       "      <td>Ahmad Mehranfar, Mehran Ahmadi, Nayereh Farahani</td>\n",
       "      <td>A man, who has some kind of a disease and eats...</td>\n",
       "      <td>6.8</td>\n",
       "      <td>1128.0</td>\n",
       "    </tr>\n",
       "    <tr>\n",
       "      <th>23775</th>\n",
       "      <td>Kummeli Alivuokralainen</td>\n",
       "      <td>Unrated</td>\n",
       "      <td>https://m.media-amazon.com/images/M/MV5BODI2MD...</td>\n",
       "      <td>Comedy</td>\n",
       "      <td>Matti Grönberg</td>\n",
       "      <td>Timo Kahilainen, Heikki Vihinen, Anttu Harlin</td>\n",
       "      <td>Mikko Kivinen, Heikki Silvennoinen, Timo Kahil...</td>\n",
       "      <td>A farce about blackmailing, a kidney transplan...</td>\n",
       "      <td>4.3</td>\n",
       "      <td>1398.0</td>\n",
       "    </tr>\n",
       "    <tr>\n",
       "      <th>23776</th>\n",
       "      <td>Någon Annanstans</td>\n",
       "      <td>Unrated</td>\n",
       "      <td>https://m.media-amazon.com/images/M/MV5BMjA0Nz...</td>\n",
       "      <td>Drama, Romance</td>\n",
       "      <td>Hiwa Abbasi</td>\n",
       "      <td>Hiwa Abbasi</td>\n",
       "      <td>Ruth Anianson, Arefeh Behbakht, Lina Burström</td>\n",
       "      <td>Said, the main character in the film Another P...</td>\n",
       "      <td>4.4</td>\n",
       "      <td>3333.0</td>\n",
       "    </tr>\n",
       "    <tr>\n",
       "      <th>23777</th>\n",
       "      <td>Chambaili</td>\n",
       "      <td>Unrated</td>\n",
       "      <td>https://m.media-amazon.com/images/M/MV5BMTYxND...</td>\n",
       "      <td>Crime, Drama, Thriller</td>\n",
       "      <td>Ismail Jillani</td>\n",
       "      <td>Shahzad Nawaz</td>\n",
       "      <td>Khalid Ahmed, Shafqat Cheema, Ehteshamuddin</td>\n",
       "      <td>A group of friends are led by circumstances to...</td>\n",
       "      <td>7.7</td>\n",
       "      <td>1115.0</td>\n",
       "    </tr>\n",
       "  </tbody>\n",
       "</table>\n",
       "<p>23778 rows × 10 columns</p>\n",
       "</div>"
      ],
      "text/plain": [
       "                                                    Name Certificate   \n",
       "0                                        The Dark Knight       PG-13  \\\n",
       "1          The Lord of the Rings: The Return of the King       PG-13   \n",
       "2                                 Dr. Babasaheb Ambedkar     Unrated   \n",
       "3      The Lord of the Rings: The Fellowship of the Ring       PG-13   \n",
       "4                  The Lord of the Rings: The Two Towers       PG-13   \n",
       "...                                                  ...         ...   \n",
       "23773                    The Lives of Mount Druitt Youth     Unrated   \n",
       "23774                                               Hich     Unrated   \n",
       "23775                            Kummeli Alivuokralainen     Unrated   \n",
       "23776                                   Någon Annanstans     Unrated   \n",
       "23777                                          Chambaili     Unrated   \n",
       "\n",
       "                                                  Poster   \n",
       "0      https://m.media-amazon.com/images/M/MV5BMTMxNT...  \\\n",
       "1      https://m.media-amazon.com/images/M/MV5BNzA5ZD...   \n",
       "2      https://m.media-amazon.com/images/M/MV5BNGNjZD...   \n",
       "3      https://m.media-amazon.com/images/M/MV5BN2EyZj...   \n",
       "4      https://m.media-amazon.com/images/M/MV5BZGMxZT...   \n",
       "...                                                  ...   \n",
       "23773  https://m.media-amazon.com/images/M/MV5BMTI4MT...   \n",
       "23774  https://m.media-amazon.com/images/M/MV5BYTY0Y2...   \n",
       "23775  https://m.media-amazon.com/images/M/MV5BODI2MD...   \n",
       "23776  https://m.media-amazon.com/images/M/MV5BMjA0Nz...   \n",
       "23777  https://m.media-amazon.com/images/M/MV5BMTYxND...   \n",
       "\n",
       "                          Genre           Director   \n",
       "0          Action, Crime, Drama  Christopher Nolan  \\\n",
       "1      Action, Adventure, Drama      Peter Jackson   \n",
       "2            Biography, History       Jabbar Patel   \n",
       "3      Action, Adventure, Drama      Peter Jackson   \n",
       "4      Action, Adventure, Drama      Peter Jackson   \n",
       "...                         ...                ...   \n",
       "23773        Documentary, Drama          Saad Adam   \n",
       "23774             Comedy, Drama   Abdolreza Kahani   \n",
       "23775                    Comedy     Matti Grönberg   \n",
       "23776            Drama, Romance        Hiwa Abbasi   \n",
       "23777    Crime, Drama, Thriller     Ismail Jillani   \n",
       "\n",
       "                                                  Writer   \n",
       "0      Jonathan Nolan, Christopher Nolan, David S. Goyer  \\\n",
       "1            J.R.R. Tolkien, Fran Walsh, Philippa Boyens   \n",
       "2             Daya Pawar, Arun Sadhu, Sooni Taraporevala   \n",
       "3            J.R.R. Tolkien, Fran Walsh, Philippa Boyens   \n",
       "4            J.R.R. Tolkien, Fran Walsh, Philippa Boyens   \n",
       "...                                                  ...   \n",
       "23773                                                NaN   \n",
       "23774                   Abdolreza Kahani, Hossein Mahkam   \n",
       "23775      Timo Kahilainen, Heikki Vihinen, Anttu Harlin   \n",
       "23776                                        Hiwa Abbasi   \n",
       "23777                                      Shahzad Nawaz   \n",
       "\n",
       "                                                   Stars   \n",
       "0      Christian Bale, Heath Ledger, Aaron Eckhart, M...  \\\n",
       "1      Elijah Wood, Viggo Mortensen, Ian McKellen, Or...   \n",
       "2      Mammootty, Sonali Kulkarni, Mohan Gokhale, Mri...   \n",
       "3      Elijah Wood, Ian McKellen, Orlando Bloom, Sean...   \n",
       "4      Elijah Wood, Ian McKellen, Viggo Mortensen, Or...   \n",
       "...                                                  ...   \n",
       "23773                 Drew Pearson, Saad Adam, Evan Adam   \n",
       "23774   Ahmad Mehranfar, Mehran Ahmadi, Nayereh Farahani   \n",
       "23775  Mikko Kivinen, Heikki Silvennoinen, Timo Kahil...   \n",
       "23776      Ruth Anianson, Arefeh Behbakht, Lina Burström   \n",
       "23777        Khalid Ahmed, Shafqat Cheema, Ehteshamuddin   \n",
       "\n",
       "                                               Storyline  Rating  Rating Count  \n",
       "0      When the menace known as the Joker wreaks havo...     9.0     2800000.0  \n",
       "1      Gandalf and Aragorn lead the World of Men agai...     9.0     1900000.0  \n",
       "2      Biopic of B. R. Ambedkar, known mainly for his...     8.9        2700.0  \n",
       "3      A meek Hobbit from the Shire and eight compani...     8.8     2000000.0  \n",
       "4      While Frodo and Sam edge closer to Mordor with...     8.8     1700000.0  \n",
       "...                                                  ...     ...           ...  \n",
       "23773  Come with Saad as he visits Mount Druitt &amp;...     4.8        1531.0  \n",
       "23774  A man, who has some kind of a disease and eats...     6.8        1128.0  \n",
       "23775  A farce about blackmailing, a kidney transplan...     4.3        1398.0  \n",
       "23776  Said, the main character in the film Another P...     4.4        3333.0  \n",
       "23777  A group of friends are led by circumstances to...     7.7        1115.0  \n",
       "\n",
       "[23778 rows x 10 columns]"
      ]
     },
     "execution_count": 3,
     "metadata": {},
     "output_type": "execute_result"
    }
   ],
   "source": [
    "df"
   ]
  },
  {
   "cell_type": "code",
   "execution_count": 4,
   "id": "6143a198",
   "metadata": {},
   "outputs": [],
   "source": [
    "df = df.dropna(subset=['Writer'])\n",
    "test = test.dropna(subset=['Writer'])"
   ]
  },
  {
   "cell_type": "code",
   "execution_count": 5,
   "id": "daf2305f",
   "metadata": {},
   "outputs": [
    {
     "name": "stderr",
     "output_type": "stream",
     "text": [
      "[nltk_data] Downloading package stopwords to\n",
      "[nltk_data]     C:\\Users\\kingk\\AppData\\Roaming\\nltk_data...\n",
      "[nltk_data]   Package stopwords is already up-to-date!\n",
      "C:\\Users\\kingk\\AppData\\Local\\Temp\\ipykernel_6488\\2132637258.py:23: SettingWithCopyWarning: \n",
      "A value is trying to be set on a copy of a slice from a DataFrame.\n",
      "Try using .loc[row_indexer,col_indexer] = value instead\n",
      "\n",
      "See the caveats in the documentation: https://pandas.pydata.org/pandas-docs/stable/user_guide/indexing.html#returning-a-view-versus-a-copy\n",
      "  df['Storyline'] = df['Storyline'].apply(lambda x: split_into_words_and_remove_stopwords(x, stopwords_list))\n",
      "C:\\Users\\kingk\\AppData\\Local\\Temp\\ipykernel_6488\\2132637258.py:24: SettingWithCopyWarning: \n",
      "A value is trying to be set on a copy of a slice from a DataFrame.\n",
      "Try using .loc[row_indexer,col_indexer] = value instead\n",
      "\n",
      "See the caveats in the documentation: https://pandas.pydata.org/pandas-docs/stable/user_guide/indexing.html#returning-a-view-versus-a-copy\n",
      "  df['Genre'] = df['Genre'].apply(lambda x: split_into_words_and_remove_stopwords(x, stopwords_list))\n",
      "C:\\Users\\kingk\\AppData\\Local\\Temp\\ipykernel_6488\\2132637258.py:25: SettingWithCopyWarning: \n",
      "A value is trying to be set on a copy of a slice from a DataFrame.\n",
      "Try using .loc[row_indexer,col_indexer] = value instead\n",
      "\n",
      "See the caveats in the documentation: https://pandas.pydata.org/pandas-docs/stable/user_guide/indexing.html#returning-a-view-versus-a-copy\n",
      "  df['Stars'] = df['Stars'].apply(lambda x: x.split(','))\n",
      "C:\\Users\\kingk\\AppData\\Local\\Temp\\ipykernel_6488\\2132637258.py:26: SettingWithCopyWarning: \n",
      "A value is trying to be set on a copy of a slice from a DataFrame.\n",
      "Try using .loc[row_indexer,col_indexer] = value instead\n",
      "\n",
      "See the caveats in the documentation: https://pandas.pydata.org/pandas-docs/stable/user_guide/indexing.html#returning-a-view-versus-a-copy\n",
      "  df['Writer'] = df['Writer'].apply(lambda x: x.split(','))\n"
     ]
    }
   ],
   "source": [
    "import re\n",
    "import nltk\n",
    "nltk.download('stopwords')\n",
    "\n",
    "from nltk.corpus import stopwords\n",
    "stopwords_list = stopwords.words('english')\n",
    "\n",
    "stopwords_list\n",
    "stopwords_list.append(\" \")\n",
    "stopwords_list.append(\"\")\n",
    "stopwords_list.extend([chr(i) for i in range(ord('a'), ord('z') + 1)])\n",
    "\n",
    "# Define a function to split text into words and remove specified words\n",
    "def split_into_words_and_remove_stopwords(text, stopwords):\n",
    "    # Split text using various separators (space, period, comma)\n",
    "    words = re.split(r'\\s+|[,\\.:!?\"&]', text)\n",
    "    # Remove specified stopwords from the list\n",
    "    words = [word.lower() for word in words if word.lower() not in stopwords]\n",
    "    return words\n",
    "\n",
    "\n",
    "# Apply the function to the \"storyline\" column\n",
    "df['Storyline'] = df['Storyline'].apply(lambda x: split_into_words_and_remove_stopwords(x, stopwords_list))\n",
    "df['Genre'] = df['Genre'].apply(lambda x: split_into_words_and_remove_stopwords(x, stopwords_list))\n",
    "df['Stars'] = df['Stars'].apply(lambda x: x.split(','))\n",
    "df['Writer'] = df['Writer'].apply(lambda x: x.split(','))\n",
    "\n",
    "test['Stars'] = test['Stars'].apply(lambda x: x.split(','))\n",
    "test['Genre'] = test['Genre'].apply(lambda x: split_into_words_and_remove_stopwords(x, stopwords_list))"
   ]
  },
  {
   "cell_type": "code",
   "execution_count": 6,
   "id": "4c343deb",
   "metadata": {},
   "outputs": [
    {
     "name": "stderr",
     "output_type": "stream",
     "text": [
      "C:\\Users\\kingk\\AppData\\Local\\Temp\\ipykernel_6488\\677463093.py:1: SettingWithCopyWarning: \n",
      "A value is trying to be set on a copy of a slice from a DataFrame.\n",
      "Try using .loc[row_indexer,col_indexer] = value instead\n",
      "\n",
      "See the caveats in the documentation: https://pandas.pydata.org/pandas-docs/stable/user_guide/indexing.html#returning-a-view-versus-a-copy\n",
      "  df['Star'] = df['Stars'].apply(lambda x: x[0] if x else None)\n"
     ]
    }
   ],
   "source": [
    "# lấy star[0] trong cột Stars để làm 1 feature riêng, là diễn viên chính\n",
    "df['Star'] = df['Stars'].apply(lambda x: x[0] if x else None)\n",
    "test['Star'] = test['Stars'].apply(lambda x: x[0] if x else None)\n",
    "\n",
    "genres = ['news','western','musical','sport','war','animation','documentary','music','family','history','sci-fi','fantasy','biography','horror','adventure','mystery','action','romance','crime','thriller','comedy','drama']\n"
   ]
  },
  {
   "cell_type": "code",
   "execution_count": 7,
   "id": "bb804604",
   "metadata": {},
   "outputs": [
    {
     "name": "stdout",
     "output_type": "stream",
     "text": [
      "news\n",
      "Accuracy: 0.9989334470989761\n",
      "Precision: 0.0\n",
      "Recall: 0.0\n",
      "F1-score: 0.0\n"
     ]
    },
    {
     "name": "stderr",
     "output_type": "stream",
     "text": [
      "C:\\Users\\kingk\\AppData\\Local\\Temp\\ipykernel_6488\\1599282026.py:52: SettingWithCopyWarning: \n",
      "A value is trying to be set on a copy of a slice from a DataFrame.\n",
      "Try using .loc[row_indexer,col_indexer] = value instead\n",
      "\n",
      "See the caveats in the documentation: https://pandas.pydata.org/pandas-docs/stable/user_guide/indexing.html#returning-a-view-versus-a-copy\n",
      "  df[genre] = model.predict(X_preprocessed)\n",
      "C:\\Users\\kingk\\AppData\\Local\\Programs\\Python\\Python310\\lib\\site-packages\\sklearn\\linear_model\\_logistic.py:460: ConvergenceWarning: lbfgs failed to converge (status=1):\n",
      "STOP: TOTAL NO. of ITERATIONS REACHED LIMIT.\n",
      "\n",
      "Increase the number of iterations (max_iter) or scale the data as shown in:\n",
      "    https://scikit-learn.org/stable/modules/preprocessing.html\n",
      "Please also refer to the documentation for alternative solver options:\n",
      "    https://scikit-learn.org/stable/modules/linear_model.html#logistic-regression\n",
      "  n_iter_i = _check_optimize_result(\n",
      "C:\\Users\\kingk\\AppData\\Local\\Temp\\ipykernel_6488\\1599282026.py:52: SettingWithCopyWarning: \n",
      "A value is trying to be set on a copy of a slice from a DataFrame.\n",
      "Try using .loc[row_indexer,col_indexer] = value instead\n",
      "\n",
      "See the caveats in the documentation: https://pandas.pydata.org/pandas-docs/stable/user_guide/indexing.html#returning-a-view-versus-a-copy\n",
      "  df[genre] = model.predict(X_preprocessed)\n"
     ]
    },
    {
     "name": "stdout",
     "output_type": "stream",
     "text": [
      "western\n",
      "Accuracy: 0.9929607508532423\n",
      "Precision: 0.0\n",
      "Recall: 0.0\n",
      "F1-score: 0.0\n"
     ]
    },
    {
     "name": "stderr",
     "output_type": "stream",
     "text": [
      "C:\\Users\\kingk\\AppData\\Local\\Programs\\Python\\Python310\\lib\\site-packages\\sklearn\\linear_model\\_logistic.py:460: ConvergenceWarning: lbfgs failed to converge (status=1):\n",
      "STOP: TOTAL NO. of ITERATIONS REACHED LIMIT.\n",
      "\n",
      "Increase the number of iterations (max_iter) or scale the data as shown in:\n",
      "    https://scikit-learn.org/stable/modules/preprocessing.html\n",
      "Please also refer to the documentation for alternative solver options:\n",
      "    https://scikit-learn.org/stable/modules/linear_model.html#logistic-regression\n",
      "  n_iter_i = _check_optimize_result(\n",
      "C:\\Users\\kingk\\AppData\\Local\\Temp\\ipykernel_6488\\1599282026.py:52: SettingWithCopyWarning: \n",
      "A value is trying to be set on a copy of a slice from a DataFrame.\n",
      "Try using .loc[row_indexer,col_indexer] = value instead\n",
      "\n",
      "See the caveats in the documentation: https://pandas.pydata.org/pandas-docs/stable/user_guide/indexing.html#returning-a-view-versus-a-copy\n",
      "  df[genre] = model.predict(X_preprocessed)\n"
     ]
    },
    {
     "name": "stdout",
     "output_type": "stream",
     "text": [
      "musical\n",
      "Accuracy: 0.984641638225256\n",
      "Precision: 0.13333333333333333\n",
      "Recall: 0.08\n",
      "F1-score: 0.1\n"
     ]
    },
    {
     "name": "stderr",
     "output_type": "stream",
     "text": [
      "C:\\Users\\kingk\\AppData\\Local\\Programs\\Python\\Python310\\lib\\site-packages\\sklearn\\linear_model\\_logistic.py:460: ConvergenceWarning: lbfgs failed to converge (status=1):\n",
      "STOP: TOTAL NO. of ITERATIONS REACHED LIMIT.\n",
      "\n",
      "Increase the number of iterations (max_iter) or scale the data as shown in:\n",
      "    https://scikit-learn.org/stable/modules/preprocessing.html\n",
      "Please also refer to the documentation for alternative solver options:\n",
      "    https://scikit-learn.org/stable/modules/linear_model.html#logistic-regression\n",
      "  n_iter_i = _check_optimize_result(\n",
      "C:\\Users\\kingk\\AppData\\Local\\Temp\\ipykernel_6488\\1599282026.py:52: SettingWithCopyWarning: \n",
      "A value is trying to be set on a copy of a slice from a DataFrame.\n",
      "Try using .loc[row_indexer,col_indexer] = value instead\n",
      "\n",
      "See the caveats in the documentation: https://pandas.pydata.org/pandas-docs/stable/user_guide/indexing.html#returning-a-view-versus-a-copy\n",
      "  df[genre] = model.predict(X_preprocessed)\n"
     ]
    },
    {
     "name": "stdout",
     "output_type": "stream",
     "text": [
      "sport\n",
      "Accuracy: 0.9633105802047781\n",
      "Precision: 0.10309278350515463\n",
      "Recall: 0.10526315789473684\n",
      "F1-score: 0.10416666666666666\n"
     ]
    },
    {
     "name": "stderr",
     "output_type": "stream",
     "text": [
      "C:\\Users\\kingk\\AppData\\Local\\Programs\\Python\\Python310\\lib\\site-packages\\sklearn\\linear_model\\_logistic.py:460: ConvergenceWarning: lbfgs failed to converge (status=1):\n",
      "STOP: TOTAL NO. of ITERATIONS REACHED LIMIT.\n",
      "\n",
      "Increase the number of iterations (max_iter) or scale the data as shown in:\n",
      "    https://scikit-learn.org/stable/modules/preprocessing.html\n",
      "Please also refer to the documentation for alternative solver options:\n",
      "    https://scikit-learn.org/stable/modules/linear_model.html#logistic-regression\n",
      "  n_iter_i = _check_optimize_result(\n",
      "C:\\Users\\kingk\\AppData\\Local\\Temp\\ipykernel_6488\\1599282026.py:52: SettingWithCopyWarning: \n",
      "A value is trying to be set on a copy of a slice from a DataFrame.\n",
      "Try using .loc[row_indexer,col_indexer] = value instead\n",
      "\n",
      "See the caveats in the documentation: https://pandas.pydata.org/pandas-docs/stable/user_guide/indexing.html#returning-a-view-versus-a-copy\n",
      "  df[genre] = model.predict(X_preprocessed)\n"
     ]
    },
    {
     "name": "stdout",
     "output_type": "stream",
     "text": [
      "war\n",
      "Accuracy: 0.9690699658703071\n",
      "Precision: 0.05063291139240506\n",
      "Recall: 0.05405405405405406\n",
      "F1-score: 0.05228758169934641\n"
     ]
    },
    {
     "name": "stderr",
     "output_type": "stream",
     "text": [
      "C:\\Users\\kingk\\AppData\\Local\\Programs\\Python\\Python310\\lib\\site-packages\\sklearn\\linear_model\\_logistic.py:460: ConvergenceWarning: lbfgs failed to converge (status=1):\n",
      "STOP: TOTAL NO. of ITERATIONS REACHED LIMIT.\n",
      "\n",
      "Increase the number of iterations (max_iter) or scale the data as shown in:\n",
      "    https://scikit-learn.org/stable/modules/preprocessing.html\n",
      "Please also refer to the documentation for alternative solver options:\n",
      "    https://scikit-learn.org/stable/modules/linear_model.html#logistic-regression\n",
      "  n_iter_i = _check_optimize_result(\n",
      "C:\\Users\\kingk\\AppData\\Local\\Temp\\ipykernel_6488\\1599282026.py:52: SettingWithCopyWarning: \n",
      "A value is trying to be set on a copy of a slice from a DataFrame.\n",
      "Try using .loc[row_indexer,col_indexer] = value instead\n",
      "\n",
      "See the caveats in the documentation: https://pandas.pydata.org/pandas-docs/stable/user_guide/indexing.html#returning-a-view-versus-a-copy\n",
      "  df[genre] = model.predict(X_preprocessed)\n"
     ]
    },
    {
     "name": "stdout",
     "output_type": "stream",
     "text": [
      "animation\n",
      "Accuracy: 0.9505119453924915\n",
      "Precision: 0.4095940959409594\n",
      "Recall: 0.6065573770491803\n",
      "F1-score: 0.48898678414096913\n"
     ]
    },
    {
     "name": "stderr",
     "output_type": "stream",
     "text": [
      "C:\\Users\\kingk\\AppData\\Local\\Programs\\Python\\Python310\\lib\\site-packages\\sklearn\\linear_model\\_logistic.py:460: ConvergenceWarning: lbfgs failed to converge (status=1):\n",
      "STOP: TOTAL NO. of ITERATIONS REACHED LIMIT.\n",
      "\n",
      "Increase the number of iterations (max_iter) or scale the data as shown in:\n",
      "    https://scikit-learn.org/stable/modules/preprocessing.html\n",
      "Please also refer to the documentation for alternative solver options:\n",
      "    https://scikit-learn.org/stable/modules/linear_model.html#logistic-regression\n",
      "  n_iter_i = _check_optimize_result(\n",
      "C:\\Users\\kingk\\AppData\\Local\\Temp\\ipykernel_6488\\1599282026.py:52: SettingWithCopyWarning: \n",
      "A value is trying to be set on a copy of a slice from a DataFrame.\n",
      "Try using .loc[row_indexer,col_indexer] = value instead\n",
      "\n",
      "See the caveats in the documentation: https://pandas.pydata.org/pandas-docs/stable/user_guide/indexing.html#returning-a-view-versus-a-copy\n",
      "  df[genre] = model.predict(X_preprocessed)\n"
     ]
    },
    {
     "name": "stdout",
     "output_type": "stream",
     "text": [
      "documentary\n",
      "Accuracy: 0.9549914675767918\n",
      "Precision: 0.5093457943925234\n",
      "Recall: 0.5069767441860465\n",
      "F1-score: 0.5081585081585082\n"
     ]
    },
    {
     "name": "stderr",
     "output_type": "stream",
     "text": [
      "C:\\Users\\kingk\\AppData\\Local\\Programs\\Python\\Python310\\lib\\site-packages\\sklearn\\linear_model\\_logistic.py:460: ConvergenceWarning: lbfgs failed to converge (status=1):\n",
      "STOP: TOTAL NO. of ITERATIONS REACHED LIMIT.\n",
      "\n",
      "Increase the number of iterations (max_iter) or scale the data as shown in:\n",
      "    https://scikit-learn.org/stable/modules/preprocessing.html\n",
      "Please also refer to the documentation for alternative solver options:\n",
      "    https://scikit-learn.org/stable/modules/linear_model.html#logistic-regression\n",
      "  n_iter_i = _check_optimize_result(\n",
      "C:\\Users\\kingk\\AppData\\Local\\Temp\\ipykernel_6488\\1599282026.py:52: SettingWithCopyWarning: \n",
      "A value is trying to be set on a copy of a slice from a DataFrame.\n",
      "Try using .loc[row_indexer,col_indexer] = value instead\n",
      "\n",
      "See the caveats in the documentation: https://pandas.pydata.org/pandas-docs/stable/user_guide/indexing.html#returning-a-view-versus-a-copy\n",
      "  df[genre] = model.predict(X_preprocessed)\n"
     ]
    },
    {
     "name": "stdout",
     "output_type": "stream",
     "text": [
      "music\n",
      "Accuracy: 0.9511518771331058\n",
      "Precision: 0.09090909090909091\n",
      "Recall: 0.09917355371900827\n",
      "F1-score: 0.09486166007905139\n"
     ]
    },
    {
     "name": "stderr",
     "output_type": "stream",
     "text": [
      "C:\\Users\\kingk\\AppData\\Local\\Programs\\Python\\Python310\\lib\\site-packages\\sklearn\\linear_model\\_logistic.py:460: ConvergenceWarning: lbfgs failed to converge (status=1):\n",
      "STOP: TOTAL NO. of ITERATIONS REACHED LIMIT.\n",
      "\n",
      "Increase the number of iterations (max_iter) or scale the data as shown in:\n",
      "    https://scikit-learn.org/stable/modules/preprocessing.html\n",
      "Please also refer to the documentation for alternative solver options:\n",
      "    https://scikit-learn.org/stable/modules/linear_model.html#logistic-regression\n",
      "  n_iter_i = _check_optimize_result(\n",
      "C:\\Users\\kingk\\AppData\\Local\\Temp\\ipykernel_6488\\1599282026.py:52: SettingWithCopyWarning: \n",
      "A value is trying to be set on a copy of a slice from a DataFrame.\n",
      "Try using .loc[row_indexer,col_indexer] = value instead\n",
      "\n",
      "See the caveats in the documentation: https://pandas.pydata.org/pandas-docs/stable/user_guide/indexing.html#returning-a-view-versus-a-copy\n",
      "  df[genre] = model.predict(X_preprocessed)\n"
     ]
    },
    {
     "name": "stdout",
     "output_type": "stream",
     "text": [
      "family\n",
      "Accuracy: 0.9272610921501706\n",
      "Precision: 0.2740112994350282\n",
      "Recall: 0.5359116022099447\n",
      "F1-score: 0.3626168224299065\n"
     ]
    },
    {
     "name": "stderr",
     "output_type": "stream",
     "text": [
      "C:\\Users\\kingk\\AppData\\Local\\Programs\\Python\\Python310\\lib\\site-packages\\sklearn\\linear_model\\_logistic.py:460: ConvergenceWarning: lbfgs failed to converge (status=1):\n",
      "STOP: TOTAL NO. of ITERATIONS REACHED LIMIT.\n",
      "\n",
      "Increase the number of iterations (max_iter) or scale the data as shown in:\n",
      "    https://scikit-learn.org/stable/modules/preprocessing.html\n",
      "Please also refer to the documentation for alternative solver options:\n",
      "    https://scikit-learn.org/stable/modules/linear_model.html#logistic-regression\n",
      "  n_iter_i = _check_optimize_result(\n",
      "C:\\Users\\kingk\\AppData\\Local\\Temp\\ipykernel_6488\\1599282026.py:52: SettingWithCopyWarning: \n",
      "A value is trying to be set on a copy of a slice from a DataFrame.\n",
      "Try using .loc[row_indexer,col_indexer] = value instead\n",
      "\n",
      "See the caveats in the documentation: https://pandas.pydata.org/pandas-docs/stable/user_guide/indexing.html#returning-a-view-versus-a-copy\n",
      "  df[genre] = model.predict(X_preprocessed)\n"
     ]
    },
    {
     "name": "stdout",
     "output_type": "stream",
     "text": [
      "history\n",
      "Accuracy: 0.9332337883959044\n",
      "Precision: 0.11702127659574468\n",
      "Recall: 0.1301775147928994\n",
      "F1-score: 0.12324929971988796\n"
     ]
    },
    {
     "name": "stderr",
     "output_type": "stream",
     "text": [
      "C:\\Users\\kingk\\AppData\\Local\\Programs\\Python\\Python310\\lib\\site-packages\\sklearn\\linear_model\\_logistic.py:460: ConvergenceWarning: lbfgs failed to converge (status=1):\n",
      "STOP: TOTAL NO. of ITERATIONS REACHED LIMIT.\n",
      "\n",
      "Increase the number of iterations (max_iter) or scale the data as shown in:\n",
      "    https://scikit-learn.org/stable/modules/preprocessing.html\n",
      "Please also refer to the documentation for alternative solver options:\n",
      "    https://scikit-learn.org/stable/modules/linear_model.html#logistic-regression\n",
      "  n_iter_i = _check_optimize_result(\n",
      "C:\\Users\\kingk\\AppData\\Local\\Temp\\ipykernel_6488\\1599282026.py:52: SettingWithCopyWarning: \n",
      "A value is trying to be set on a copy of a slice from a DataFrame.\n",
      "Try using .loc[row_indexer,col_indexer] = value instead\n",
      "\n",
      "See the caveats in the documentation: https://pandas.pydata.org/pandas-docs/stable/user_guide/indexing.html#returning-a-view-versus-a-copy\n",
      "  df[genre] = model.predict(X_preprocessed)\n"
     ]
    },
    {
     "name": "stdout",
     "output_type": "stream",
     "text": [
      "sci-fi\n",
      "Accuracy: 0.919155290102389\n",
      "Precision: 0.2134387351778656\n",
      "Recall: 0.23076923076923078\n",
      "F1-score: 0.2217659137577002\n"
     ]
    },
    {
     "name": "stderr",
     "output_type": "stream",
     "text": [
      "C:\\Users\\kingk\\AppData\\Local\\Programs\\Python\\Python310\\lib\\site-packages\\sklearn\\linear_model\\_logistic.py:460: ConvergenceWarning: lbfgs failed to converge (status=1):\n",
      "STOP: TOTAL NO. of ITERATIONS REACHED LIMIT.\n",
      "\n",
      "Increase the number of iterations (max_iter) or scale the data as shown in:\n",
      "    https://scikit-learn.org/stable/modules/preprocessing.html\n",
      "Please also refer to the documentation for alternative solver options:\n",
      "    https://scikit-learn.org/stable/modules/linear_model.html#logistic-regression\n",
      "  n_iter_i = _check_optimize_result(\n",
      "C:\\Users\\kingk\\AppData\\Local\\Temp\\ipykernel_6488\\1599282026.py:52: SettingWithCopyWarning: \n",
      "A value is trying to be set on a copy of a slice from a DataFrame.\n",
      "Try using .loc[row_indexer,col_indexer] = value instead\n",
      "\n",
      "See the caveats in the documentation: https://pandas.pydata.org/pandas-docs/stable/user_guide/indexing.html#returning-a-view-versus-a-copy\n",
      "  df[genre] = model.predict(X_preprocessed)\n"
     ]
    },
    {
     "name": "stdout",
     "output_type": "stream",
     "text": [
      "fantasy\n",
      "Accuracy: 0.9116894197952219\n",
      "Precision: 0.1744186046511628\n",
      "Recall: 0.18292682926829268\n",
      "F1-score: 0.17857142857142858\n"
     ]
    },
    {
     "name": "stderr",
     "output_type": "stream",
     "text": [
      "C:\\Users\\kingk\\AppData\\Local\\Programs\\Python\\Python310\\lib\\site-packages\\sklearn\\linear_model\\_logistic.py:460: ConvergenceWarning: lbfgs failed to converge (status=1):\n",
      "STOP: TOTAL NO. of ITERATIONS REACHED LIMIT.\n",
      "\n",
      "Increase the number of iterations (max_iter) or scale the data as shown in:\n",
      "    https://scikit-learn.org/stable/modules/preprocessing.html\n",
      "Please also refer to the documentation for alternative solver options:\n",
      "    https://scikit-learn.org/stable/modules/linear_model.html#logistic-regression\n",
      "  n_iter_i = _check_optimize_result(\n",
      "C:\\Users\\kingk\\AppData\\Local\\Temp\\ipykernel_6488\\1599282026.py:52: SettingWithCopyWarning: \n",
      "A value is trying to be set on a copy of a slice from a DataFrame.\n",
      "Try using .loc[row_indexer,col_indexer] = value instead\n",
      "\n",
      "See the caveats in the documentation: https://pandas.pydata.org/pandas-docs/stable/user_guide/indexing.html#returning-a-view-versus-a-copy\n",
      "  df[genre] = model.predict(X_preprocessed)\n"
     ]
    },
    {
     "name": "stdout",
     "output_type": "stream",
     "text": [
      "biography\n",
      "Accuracy: 0.9031569965870307\n",
      "Precision: 0.22807017543859648\n",
      "Recall: 0.291044776119403\n",
      "F1-score: 0.25573770491803277\n"
     ]
    },
    {
     "name": "stderr",
     "output_type": "stream",
     "text": [
      "C:\\Users\\kingk\\AppData\\Local\\Programs\\Python\\Python310\\lib\\site-packages\\sklearn\\linear_model\\_logistic.py:460: ConvergenceWarning: lbfgs failed to converge (status=1):\n",
      "STOP: TOTAL NO. of ITERATIONS REACHED LIMIT.\n",
      "\n",
      "Increase the number of iterations (max_iter) or scale the data as shown in:\n",
      "    https://scikit-learn.org/stable/modules/preprocessing.html\n",
      "Please also refer to the documentation for alternative solver options:\n",
      "    https://scikit-learn.org/stable/modules/linear_model.html#logistic-regression\n",
      "  n_iter_i = _check_optimize_result(\n",
      "C:\\Users\\kingk\\AppData\\Local\\Temp\\ipykernel_6488\\1599282026.py:52: SettingWithCopyWarning: \n",
      "A value is trying to be set on a copy of a slice from a DataFrame.\n",
      "Try using .loc[row_indexer,col_indexer] = value instead\n",
      "\n",
      "See the caveats in the documentation: https://pandas.pydata.org/pandas-docs/stable/user_guide/indexing.html#returning-a-view-versus-a-copy\n",
      "  df[genre] = model.predict(X_preprocessed)\n"
     ]
    },
    {
     "name": "stdout",
     "output_type": "stream",
     "text": [
      "horror\n",
      "Accuracy: 0.861561433447099\n",
      "Precision: 0.4883720930232558\n",
      "Recall: 0.5308056872037915\n",
      "F1-score: 0.5087055261165783\n"
     ]
    },
    {
     "name": "stderr",
     "output_type": "stream",
     "text": [
      "C:\\Users\\kingk\\AppData\\Local\\Programs\\Python\\Python310\\lib\\site-packages\\sklearn\\linear_model\\_logistic.py:460: ConvergenceWarning: lbfgs failed to converge (status=1):\n",
      "STOP: TOTAL NO. of ITERATIONS REACHED LIMIT.\n",
      "\n",
      "Increase the number of iterations (max_iter) or scale the data as shown in:\n",
      "    https://scikit-learn.org/stable/modules/preprocessing.html\n",
      "Please also refer to the documentation for alternative solver options:\n",
      "    https://scikit-learn.org/stable/modules/linear_model.html#logistic-regression\n",
      "  n_iter_i = _check_optimize_result(\n",
      "C:\\Users\\kingk\\AppData\\Local\\Temp\\ipykernel_6488\\1599282026.py:52: SettingWithCopyWarning: \n",
      "A value is trying to be set on a copy of a slice from a DataFrame.\n",
      "Try using .loc[row_indexer,col_indexer] = value instead\n",
      "\n",
      "See the caveats in the documentation: https://pandas.pydata.org/pandas-docs/stable/user_guide/indexing.html#returning-a-view-versus-a-copy\n",
      "  df[genre] = model.predict(X_preprocessed)\n"
     ]
    },
    {
     "name": "stdout",
     "output_type": "stream",
     "text": [
      "adventure\n",
      "Accuracy: 0.8675341296928327\n",
      "Precision: 0.4133545310015898\n",
      "Recall: 0.5078125\n",
      "F1-score: 0.45574057843996496\n"
     ]
    },
    {
     "name": "stderr",
     "output_type": "stream",
     "text": [
      "C:\\Users\\kingk\\AppData\\Local\\Programs\\Python\\Python310\\lib\\site-packages\\sklearn\\linear_model\\_logistic.py:460: ConvergenceWarning: lbfgs failed to converge (status=1):\n",
      "STOP: TOTAL NO. of ITERATIONS REACHED LIMIT.\n",
      "\n",
      "Increase the number of iterations (max_iter) or scale the data as shown in:\n",
      "    https://scikit-learn.org/stable/modules/preprocessing.html\n",
      "Please also refer to the documentation for alternative solver options:\n",
      "    https://scikit-learn.org/stable/modules/linear_model.html#logistic-regression\n",
      "  n_iter_i = _check_optimize_result(\n",
      "C:\\Users\\kingk\\AppData\\Local\\Temp\\ipykernel_6488\\1599282026.py:52: SettingWithCopyWarning: \n",
      "A value is trying to be set on a copy of a slice from a DataFrame.\n",
      "Try using .loc[row_indexer,col_indexer] = value instead\n",
      "\n",
      "See the caveats in the documentation: https://pandas.pydata.org/pandas-docs/stable/user_guide/indexing.html#returning-a-view-versus-a-copy\n",
      "  df[genre] = model.predict(X_preprocessed)\n"
     ]
    },
    {
     "name": "stdout",
     "output_type": "stream",
     "text": [
      "mystery\n",
      "Accuracy: 0.8547354948805461\n",
      "Precision: 0.1678832116788321\n",
      "Recall: 0.16911764705882354\n",
      "F1-score: 0.1684981684981685\n"
     ]
    },
    {
     "name": "stderr",
     "output_type": "stream",
     "text": [
      "C:\\Users\\kingk\\AppData\\Local\\Programs\\Python\\Python310\\lib\\site-packages\\sklearn\\linear_model\\_logistic.py:460: ConvergenceWarning: lbfgs failed to converge (status=1):\n",
      "STOP: TOTAL NO. of ITERATIONS REACHED LIMIT.\n",
      "\n",
      "Increase the number of iterations (max_iter) or scale the data as shown in:\n",
      "    https://scikit-learn.org/stable/modules/preprocessing.html\n",
      "Please also refer to the documentation for alternative solver options:\n",
      "    https://scikit-learn.org/stable/modules/linear_model.html#logistic-regression\n",
      "  n_iter_i = _check_optimize_result(\n",
      "C:\\Users\\kingk\\AppData\\Local\\Temp\\ipykernel_6488\\1599282026.py:52: SettingWithCopyWarning: \n",
      "A value is trying to be set on a copy of a slice from a DataFrame.\n",
      "Try using .loc[row_indexer,col_indexer] = value instead\n",
      "\n",
      "See the caveats in the documentation: https://pandas.pydata.org/pandas-docs/stable/user_guide/indexing.html#returning-a-view-versus-a-copy\n",
      "  df[genre] = model.predict(X_preprocessed)\n"
     ]
    },
    {
     "name": "stdout",
     "output_type": "stream",
     "text": [
      "action\n",
      "Accuracy: 0.8171928327645052\n",
      "Precision: 0.5555555555555556\n",
      "Recall: 0.5364583333333334\n",
      "F1-score: 0.5458399576046635\n"
     ]
    },
    {
     "name": "stderr",
     "output_type": "stream",
     "text": [
      "C:\\Users\\kingk\\AppData\\Local\\Programs\\Python\\Python310\\lib\\site-packages\\sklearn\\linear_model\\_logistic.py:460: ConvergenceWarning: lbfgs failed to converge (status=1):\n",
      "STOP: TOTAL NO. of ITERATIONS REACHED LIMIT.\n",
      "\n",
      "Increase the number of iterations (max_iter) or scale the data as shown in:\n",
      "    https://scikit-learn.org/stable/modules/preprocessing.html\n",
      "Please also refer to the documentation for alternative solver options:\n",
      "    https://scikit-learn.org/stable/modules/linear_model.html#logistic-regression\n",
      "  n_iter_i = _check_optimize_result(\n",
      "C:\\Users\\kingk\\AppData\\Local\\Temp\\ipykernel_6488\\1599282026.py:52: SettingWithCopyWarning: \n",
      "A value is trying to be set on a copy of a slice from a DataFrame.\n",
      "Try using .loc[row_indexer,col_indexer] = value instead\n",
      "\n",
      "See the caveats in the documentation: https://pandas.pydata.org/pandas-docs/stable/user_guide/indexing.html#returning-a-view-versus-a-copy\n",
      "  df[genre] = model.predict(X_preprocessed)\n"
     ]
    },
    {
     "name": "stdout",
     "output_type": "stream",
     "text": [
      "romance\n",
      "Accuracy: 0.7860494880546075\n",
      "Precision: 0.33422103861517977\n",
      "Recall: 0.3328912466843501\n",
      "F1-score: 0.3335548172757475\n"
     ]
    },
    {
     "name": "stderr",
     "output_type": "stream",
     "text": [
      "C:\\Users\\kingk\\AppData\\Local\\Programs\\Python\\Python310\\lib\\site-packages\\sklearn\\linear_model\\_logistic.py:460: ConvergenceWarning: lbfgs failed to converge (status=1):\n",
      "STOP: TOTAL NO. of ITERATIONS REACHED LIMIT.\n",
      "\n",
      "Increase the number of iterations (max_iter) or scale the data as shown in:\n",
      "    https://scikit-learn.org/stable/modules/preprocessing.html\n",
      "Please also refer to the documentation for alternative solver options:\n",
      "    https://scikit-learn.org/stable/modules/linear_model.html#logistic-regression\n",
      "  n_iter_i = _check_optimize_result(\n",
      "C:\\Users\\kingk\\AppData\\Local\\Temp\\ipykernel_6488\\1599282026.py:52: SettingWithCopyWarning: \n",
      "A value is trying to be set on a copy of a slice from a DataFrame.\n",
      "Try using .loc[row_indexer,col_indexer] = value instead\n",
      "\n",
      "See the caveats in the documentation: https://pandas.pydata.org/pandas-docs/stable/user_guide/indexing.html#returning-a-view-versus-a-copy\n",
      "  df[genre] = model.predict(X_preprocessed)\n"
     ]
    },
    {
     "name": "stdout",
     "output_type": "stream",
     "text": [
      "crime\n",
      "Accuracy: 0.7805034129692833\n",
      "Precision: 0.36186770428015563\n",
      "Recall: 0.34191176470588236\n",
      "F1-score: 0.3516068052930057\n"
     ]
    },
    {
     "name": "stderr",
     "output_type": "stream",
     "text": [
      "C:\\Users\\kingk\\AppData\\Local\\Programs\\Python\\Python310\\lib\\site-packages\\sklearn\\linear_model\\_logistic.py:460: ConvergenceWarning: lbfgs failed to converge (status=1):\n",
      "STOP: TOTAL NO. of ITERATIONS REACHED LIMIT.\n",
      "\n",
      "Increase the number of iterations (max_iter) or scale the data as shown in:\n",
      "    https://scikit-learn.org/stable/modules/preprocessing.html\n",
      "Please also refer to the documentation for alternative solver options:\n",
      "    https://scikit-learn.org/stable/modules/linear_model.html#logistic-regression\n",
      "  n_iter_i = _check_optimize_result(\n",
      "C:\\Users\\kingk\\AppData\\Local\\Temp\\ipykernel_6488\\1599282026.py:52: SettingWithCopyWarning: \n",
      "A value is trying to be set on a copy of a slice from a DataFrame.\n",
      "Try using .loc[row_indexer,col_indexer] = value instead\n",
      "\n",
      "See the caveats in the documentation: https://pandas.pydata.org/pandas-docs/stable/user_guide/indexing.html#returning-a-view-versus-a-copy\n",
      "  df[genre] = model.predict(X_preprocessed)\n"
     ]
    },
    {
     "name": "stdout",
     "output_type": "stream",
     "text": [
      "thriller\n",
      "Accuracy: 0.7734641638225256\n",
      "Precision: 0.375\n",
      "Recall: 0.3919239904988123\n",
      "F1-score: 0.38327526132404177\n"
     ]
    },
    {
     "name": "stderr",
     "output_type": "stream",
     "text": [
      "C:\\Users\\kingk\\AppData\\Local\\Programs\\Python\\Python310\\lib\\site-packages\\sklearn\\linear_model\\_logistic.py:460: ConvergenceWarning: lbfgs failed to converge (status=1):\n",
      "STOP: TOTAL NO. of ITERATIONS REACHED LIMIT.\n",
      "\n",
      "Increase the number of iterations (max_iter) or scale the data as shown in:\n",
      "    https://scikit-learn.org/stable/modules/preprocessing.html\n",
      "Please also refer to the documentation for alternative solver options:\n",
      "    https://scikit-learn.org/stable/modules/linear_model.html#logistic-regression\n",
      "  n_iter_i = _check_optimize_result(\n",
      "C:\\Users\\kingk\\AppData\\Local\\Temp\\ipykernel_6488\\1599282026.py:52: SettingWithCopyWarning: \n",
      "A value is trying to be set on a copy of a slice from a DataFrame.\n",
      "Try using .loc[row_indexer,col_indexer] = value instead\n",
      "\n",
      "See the caveats in the documentation: https://pandas.pydata.org/pandas-docs/stable/user_guide/indexing.html#returning-a-view-versus-a-copy\n",
      "  df[genre] = model.predict(X_preprocessed)\n"
     ]
    },
    {
     "name": "stdout",
     "output_type": "stream",
     "text": [
      "comedy\n",
      "Accuracy: 0.7367747440273038\n",
      "Precision: 0.6302395209580839\n",
      "Recall: 0.5322376738305942\n",
      "F1-score: 0.5771076079506512\n",
      "drama\n",
      "Accuracy: 0.6928327645051194\n",
      "Precision: 0.7210506844247133\n",
      "Recall: 0.7396584440227704\n",
      "F1-score: 0.7302360434619708\n"
     ]
    },
    {
     "name": "stderr",
     "output_type": "stream",
     "text": [
      "C:\\Users\\kingk\\AppData\\Local\\Programs\\Python\\Python310\\lib\\site-packages\\sklearn\\linear_model\\_logistic.py:460: ConvergenceWarning: lbfgs failed to converge (status=1):\n",
      "STOP: TOTAL NO. of ITERATIONS REACHED LIMIT.\n",
      "\n",
      "Increase the number of iterations (max_iter) or scale the data as shown in:\n",
      "    https://scikit-learn.org/stable/modules/preprocessing.html\n",
      "Please also refer to the documentation for alternative solver options:\n",
      "    https://scikit-learn.org/stable/modules/linear_model.html#logistic-regression\n",
      "  n_iter_i = _check_optimize_result(\n",
      "C:\\Users\\kingk\\AppData\\Local\\Temp\\ipykernel_6488\\1599282026.py:52: SettingWithCopyWarning: \n",
      "A value is trying to be set on a copy of a slice from a DataFrame.\n",
      "Try using .loc[row_indexer,col_indexer] = value instead\n",
      "\n",
      "See the caveats in the documentation: https://pandas.pydata.org/pandas-docs/stable/user_guide/indexing.html#returning-a-view-versus-a-copy\n",
      "  df[genre] = model.predict(X_preprocessed)\n"
     ]
    }
   ],
   "source": [
    "#input: Rating, Rating Count, Certificate, Director, Star\n",
    "#output: trả về luôn cột df['Genre'] là true/false cho phim (tôi update cho cả bộ df luôn)\n",
    "\n",
    "numeric_transformer = Pipeline(steps=[\n",
    "        ('scaler', StandardScaler())\n",
    "    ])\n",
    "\n",
    "categorical_transformer = Pipeline(steps=[\n",
    "        ('onehot', OneHotEncoder(handle_unknown='ignore'))\n",
    "    ])\n",
    "\n",
    "num = ['Rating', 'Rating Count']\n",
    "total = ['Rating', 'Rating Count', 'Certificate', 'Director', 'Star']\n",
    "\n",
    "ans = []\n",
    "\n",
    "for genre in genres:\n",
    "    numeric_features = ['Rating', 'Rating Count']\n",
    "    categorical_features = ['Certificate', 'Director', 'Star']\n",
    "\n",
    "    preprocessor = ColumnTransformer(\n",
    "        transformers=[\n",
    "            ('num', numeric_transformer, numeric_features),\n",
    "            ('cat', categorical_transformer, categorical_features)\n",
    "        ])\n",
    "\n",
    "    X = df[['Certificate', 'Director', 'Star', 'Rating', 'Rating Count']]\n",
    "    y = [genre in x for x in df['Genre'].values]\n",
    "\n",
    "    X_preprocessed = preprocessor.fit_transform(X)\n",
    "\n",
    "    X_train, X_test, y_train, y_test = train_test_split(X_preprocessed, y, test_size=0.2, random_state=42)\n",
    "\n",
    "    model = make_pipeline(\n",
    "        RandomOverSampler(random_state=42),\n",
    "        LogisticRegression()\n",
    "    )\n",
    "\n",
    "    model.fit(X_train, y_train)\n",
    "\n",
    "    y_pred = model.predict(X_test)\n",
    "\n",
    "    accuracy = accuracy_score(y_test, y_pred)\n",
    "    precision = precision_score(y_test, y_pred)\n",
    "    recall = recall_score(y_test, y_pred)\n",
    "    f1 = f1_score(y_test, y_pred)\n",
    "    \n",
    "    print(genre)\n",
    "\n",
    "    print(f'Accuracy: {accuracy}')\n",
    "    print(f'Precision: {precision}')\n",
    "    print(f'Recall: {recall}')\n",
    "    print(f'F1-score: {f1}')\n",
    "    \n",
    "    # update cho cả bộ df\n",
    "    df[genre] = model.predict(X_preprocessed)\n",
    "    num.append(genre)\n",
    "    total.append(genre)\n",
    "    ans.append([genre, accuracy, recall])\n"
   ]
  },
  {
   "cell_type": "code",
   "execution_count": 8,
   "id": "f0899e0c",
   "metadata": {},
   "outputs": [
    {
     "data": {
      "text/plain": [
       "[['news', 0.9989334470989761, 0.0],\n",
       " ['western', 0.9929607508532423, 0.0],\n",
       " ['musical', 0.984641638225256, 0.08],\n",
       " ['sport', 0.9633105802047781, 0.10526315789473684],\n",
       " ['war', 0.9690699658703071, 0.05405405405405406],\n",
       " ['animation', 0.9505119453924915, 0.6065573770491803],\n",
       " ['documentary', 0.9549914675767918, 0.5069767441860465],\n",
       " ['music', 0.9511518771331058, 0.09917355371900827],\n",
       " ['family', 0.9272610921501706, 0.5359116022099447],\n",
       " ['history', 0.9332337883959044, 0.1301775147928994],\n",
       " ['sci-fi', 0.919155290102389, 0.23076923076923078],\n",
       " ['fantasy', 0.9116894197952219, 0.18292682926829268],\n",
       " ['biography', 0.9031569965870307, 0.291044776119403],\n",
       " ['horror', 0.861561433447099, 0.5308056872037915],\n",
       " ['adventure', 0.8675341296928327, 0.5078125],\n",
       " ['mystery', 0.8547354948805461, 0.16911764705882354],\n",
       " ['action', 0.8171928327645052, 0.5364583333333334],\n",
       " ['romance', 0.7860494880546075, 0.3328912466843501],\n",
       " ['crime', 0.7805034129692833, 0.34191176470588236],\n",
       " ['thriller', 0.7734641638225256, 0.3919239904988123],\n",
       " ['comedy', 0.7367747440273038, 0.5322376738305942],\n",
       " ['drama', 0.6928327645051194, 0.7396584440227704]]"
      ]
     },
     "execution_count": 8,
     "metadata": {},
     "output_type": "execute_result"
    }
   ],
   "source": [
    "ans"
   ]
  },
  {
   "cell_type": "code",
   "execution_count": 12,
   "id": "62603b71",
   "metadata": {},
   "outputs": [
    {
     "name": "stdout",
     "output_type": "stream",
     "text": [
      "drama\n",
      "Accuracy: 0.6860068259385665\n",
      "Precision: 0.7014201593349497\n",
      "Recall: 0.7685009487666035\n",
      "F1-score: 0.7334299166968489\n"
     ]
    },
    {
     "name": "stderr",
     "output_type": "stream",
     "text": [
      "C:\\Users\\kingk\\AppData\\Local\\Programs\\Python\\Python310\\lib\\site-packages\\sklearn\\linear_model\\_logistic.py:460: ConvergenceWarning: lbfgs failed to converge (status=1):\n",
      "STOP: TOTAL NO. of ITERATIONS REACHED LIMIT.\n",
      "\n",
      "Increase the number of iterations (max_iter) or scale the data as shown in:\n",
      "    https://scikit-learn.org/stable/modules/preprocessing.html\n",
      "Please also refer to the documentation for alternative solver options:\n",
      "    https://scikit-learn.org/stable/modules/linear_model.html#logistic-regression\n",
      "  n_iter_i = _check_optimize_result(\n",
      "C:\\Users\\kingk\\AppData\\Local\\Temp\\ipykernel_7456\\2571254094.py:48: SettingWithCopyWarning: \n",
      "A value is trying to be set on a copy of a slice from a DataFrame.\n",
      "Try using .loc[row_indexer,col_indexer] = value instead\n",
      "\n",
      "See the caveats in the documentation: https://pandas.pydata.org/pandas-docs/stable/user_guide/indexing.html#returning-a-view-versus-a-copy\n",
      "  df[genre] = model.predict(X_preprocessed)\n"
     ]
    }
   ],
   "source": [
    "numeric_transformer = Pipeline(steps=[\n",
    "        ('scaler', StandardScaler())\n",
    "    ])\n",
    "\n",
    "categorical_transformer = Pipeline(steps=[\n",
    "        ('onehot', OneHotEncoder(handle_unknown='ignore'))\n",
    "    ])\n",
    "\n",
    "numeric_features = num.copy()\n",
    "categorical_features = ['Certificate', 'Director', 'Star']\n",
    "\n",
    "genre = 'drama'\n",
    "\n",
    "preprocessor = ColumnTransformer(\n",
    "    transformers=[\n",
    "        ('num', numeric_transformer, numeric_features),\n",
    "        ('cat', categorical_transformer, categorical_features)\n",
    "    ])\n",
    "\n",
    "X = df[total]\n",
    "y = [genre in x for x in df['Genre'].values]\n",
    "\n",
    "X_preprocessed = preprocessor.fit_transform(X)\n",
    "\n",
    "X_train, X_test, y_train, y_test = train_test_split(X_preprocessed, y, test_size=0.2, random_state=42)\n",
    "\n",
    "model = make_pipeline(\n",
    "    RandomOverSampler(random_state=42),\n",
    "    LogisticRegression()\n",
    ")\n",
    "\n",
    "model.fit(X_train, y_train)\n",
    "\n",
    "y_pred = model.predict(X_test)\n",
    "\n",
    "accuracy = accuracy_score(y_test, y_pred)\n",
    "precision = precision_score(y_test, y_pred)\n",
    "recall = recall_score(y_test, y_pred)\n",
    "f1 = f1_score(y_test, y_pred)\n",
    "    \n",
    "print(genre)\n",
    "\n",
    "print(f'Accuracy: {accuracy}')\n",
    "print(f'Precision: {precision}')\n",
    "print(f'Recall: {recall}')\n",
    "print(f'F1-score: {f1}')\n",
    "    \n",
    "df[genre] = model.predict(X_preprocessed)\n",
    "ans.append([genre, accuracy, recall])\n"
   ]
  },
  {
   "cell_type": "code",
   "execution_count": 9,
   "id": "9b8decbe",
   "metadata": {},
   "outputs": [
    {
     "name": "stderr",
     "output_type": "stream",
     "text": [
      "C:\\Users\\kingk\\AppData\\Local\\Temp\\ipykernel_6488\\1338331831.py:8: SettingWithCopyWarning: \n",
      "A value is trying to be set on a copy of a slice from a DataFrame.\n",
      "Try using .loc[row_indexer,col_indexer] = value instead\n",
      "\n",
      "See the caveats in the documentation: https://pandas.pydata.org/pandas-docs/stable/user_guide/indexing.html#returning-a-view-versus-a-copy\n",
      "  df['genre_checked'] = df.apply(lambda row: sorted([genre for genre in genres if row[genre]]), axis=1)\n"
     ]
    },
    {
     "data": {
      "text/plain": [
       "0        [action, adventure, crime, fantasy, horror, my...\n",
       "1        [action, adventure, fantasy, horror, sci-fi, t...\n",
       "2                       [biography, crime, drama, history]\n",
       "3        [action, adventure, fantasy, horror, sci-fi, t...\n",
       "4           [action, adventure, fantasy, sci-fi, thriller]\n",
       "                               ...                        \n",
       "23772                                             [horror]\n",
       "23774                                      [comedy, drama]\n",
       "23775                                             [comedy]\n",
       "23776                                     [drama, romance]\n",
       "23777                             [crime, drama, thriller]\n",
       "Name: genre_checked, Length: 23436, dtype: object"
      ]
     },
     "execution_count": 9,
     "metadata": {},
     "output_type": "execute_result"
    }
   ],
   "source": [
    "for genre in df:\n",
    "    genre = sorted(genre)\n",
    "\n",
    "# Sort the genres\n",
    "genres = sorted(genres)\n",
    "\n",
    "# Create a new column 'genre_checked' with a list of sorted genres for each row\n",
    "df['genre_checked'] = df.apply(lambda row: sorted([genre for genre in genres if row[genre]]), axis=1)\n",
    "\n",
    "df['genre_checked']"
   ]
  },
  {
   "cell_type": "code",
   "execution_count": 13,
   "id": "d249ad64",
   "metadata": {},
   "outputs": [
    {
     "name": "stdout",
     "output_type": "stream",
     "text": [
      "Accuracy: 0.4453405017921147\n"
     ]
    }
   ],
   "source": [
    "df[df['genre_checked'] == df['Genre']]\n",
    "\n",
    "print(\"Accuracy:\", num_same_rows / len(df))"
   ]
  },
  {
   "cell_type": "code",
   "execution_count": null,
   "id": "955a2fc8",
   "metadata": {},
   "outputs": [],
   "source": []
  }
 ],
 "metadata": {
  "kernelspec": {
   "display_name": "Python 3 (ipykernel)",
   "language": "python",
   "name": "python3"
  },
  "language_info": {
   "codemirror_mode": {
    "name": "ipython",
    "version": 3
   },
   "file_extension": ".py",
   "mimetype": "text/x-python",
   "name": "python",
   "nbconvert_exporter": "python",
   "pygments_lexer": "ipython3",
   "version": "3.10.6"
  }
 },
 "nbformat": 4,
 "nbformat_minor": 5
}
