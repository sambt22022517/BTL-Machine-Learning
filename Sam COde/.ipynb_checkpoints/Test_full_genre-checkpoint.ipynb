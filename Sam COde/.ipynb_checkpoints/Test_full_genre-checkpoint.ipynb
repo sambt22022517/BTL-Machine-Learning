{
 "cells": [
  {
   "cell_type": "code",
   "execution_count": 7,
   "id": "093a9dad-4e24-4992-9e97-322e36f521dd",
   "metadata": {},
   "outputs": [],
   "source": [
    "import pandas as pd\n",
    "import numpy as np\n",
    "import seaborn as sns\n",
    "import matplotlib.pyplot as plt\n",
    "import sklearn as skl\n",
    "from sklearn import tree\n",
    "from sklearn import svm\n",
    "from sklearn.feature_extraction.text import TfidfVectorizer\n",
    "from nltk.corpus import stopwords\n",
    "import re\n",
    "import scipy.sparse as scsp"
   ]
  },
  {
   "cell_type": "code",
   "execution_count": 32,
   "id": "2a371538-1d7d-43e5-bdce-3f8930c7dc83",
   "metadata": {},
   "outputs": [],
   "source": [
    "filename = 'Cleaned_Data.csv'\n",
    "data = pd.read_csv(filename)"
   ]
  },
  {
   "cell_type": "code",
   "execution_count": 46,
   "id": "d1b132fc-171d-42ec-a6ec-728734e8aeca",
   "metadata": {},
   "outputs": [],
   "source": [
    "data3 = pd.read_csv('Movie_Data3.csv')"
   ]
  },
  {
   "cell_type": "code",
   "execution_count": 47,
   "id": "bc8cdb6d-95b5-447b-a669-54eb8d086b4c",
   "metadata": {},
   "outputs": [],
   "source": [
    "data3 = data3[~((data3['Genre'].isnull()) | (data3['Storyline'].isnull()))]"
   ]
  },
  {
   "cell_type": "code",
   "execution_count": 48,
   "id": "76c0c4ad-2603-4add-b38b-0e87422a2393",
   "metadata": {},
   "outputs": [],
   "source": [
    "data3 = data3.reset_index(drop=True)"
   ]
  },
  {
   "cell_type": "code",
   "execution_count": 37,
   "id": "bf7dfc49-9dcc-4ead-9956-8079ee25efd9",
   "metadata": {},
   "outputs": [],
   "source": [
    "# Tạo danh sách từ phổ thông\n",
    "stopwords_list = stopwords.words('english')\n",
    "stopwords_list.append(\" \")\n",
    "stopwords_list.append(\"\")\n",
    "stopwords_list.extend([chr(i) for i in range(ord('a'), ord('z') + 1)])\n",
    "\n",
    "def split_into_words_and_remove_stopwords(text, stopwords):\n",
    "    # Split text using various separators (space, period, comma)\n",
    "    words = re.split(r'\\s+|[,\\.:!?\"&]', text)\n",
    "    # Remove specified stopwords from the list\n",
    "    words = [word.lower() for word in words if word.lower() not in stopwords]\n",
    "    return ' '.join(words)\n",
    "\n",
    "# Tách + xoá các từ phổ thông\n",
    "data['New Storyline'] = data['Storyline'].apply(lambda x: split_into_words_and_remove_stopwords(x, stopwords_list))\n",
    "\n",
    "# Làm việc với tập test\n",
    "data3['New Storyline'] = data3['Storyline'].apply(lambda x: split_into_words_and_remove_stopwords(x, stopwords_list))"
   ]
  },
  {
   "cell_type": "code",
   "execution_count": 38,
   "id": "51f27f07-46d6-4057-bf0c-164b49d34bc3",
   "metadata": {},
   "outputs": [],
   "source": [
    "def VietAnh(genre):\n",
    "    # Tạo biến mục tiêu\n",
    "    data['Target'] = data['Genre'].str.contains(genre)\n",
    "\n",
    "    # Tách hai phần True và False\n",
    "    data_true = data[data['Target']].reset_index(drop=True)\n",
    "    data_false = data[~data['Target']].reset_index(drop=True)\n",
    "\n",
    "    # Chia Train và Test\n",
    "    # LÀM VIỆC BÊN NGOÀI\n",
    "    n_true = int(data_true.shape[0] * 0.7)\n",
    "    choice_true = np.random.choice(data_true.shape[0], n_true, replace=False)\n",
    "    n_false = int(data_false.shape[0] * 0.7)\n",
    "    choice_false = np.random.choice(data_false.shape[0], n_false, replace=False)\n",
    "\n",
    "    data_true_train = data_true[data_true.index.isin(choice_true)]\n",
    "    data_false_train = data_false[data_false.index.isin(choice_false)]\n",
    "    data_full_train = pd.concat([data_true_train, data_false_train]).sample(frac=1).reset_index(drop=True)\n",
    "\n",
    "    data_true_test = data_true[~data_true.index.isin(choice_true)]\n",
    "    data_false_test = data_false[~data_false.index.isin(choice_false)]\n",
    "    data_full_test = pd.concat([data_true_test, data_false_test]).sample(frac=1).reset_index(drop=True)\n",
    "\n",
    "    data_train = data_full_train[data_full_train.columns[~data_full_train.columns.isin(['Target'])]]\n",
    "    y_train = data_full_train['Target']\n",
    "\n",
    "    data_test = data_full_test[data_full_test.columns[~data_full_test.columns.isin(['Target'])]]\n",
    "    y_test = data3['Genre'].str.contains(genre)\n",
    "\n",
    "    # Mã hoá Storyline\n",
    "    tfidf_vectorizer = TfidfVectorizer()\n",
    "    X_train = tfidf_vectorizer.fit_transform(data_train['New Storyline'])\n",
    "    X_test = tfidf_vectorizer.transform(data3['New Storyline'])\n",
    "\n",
    "    # Tách True và False trong bộ Train\n",
    "    X_true_train = X_train[y_train]\n",
    "    X_false_train = X_train[~y_train]\n",
    "\n",
    "    index_true = pd.DataFrame({'True': np.arange(X_true_train.shape[0])})\n",
    "    index_false = pd.DataFrame({'False': np.arange(X_false_train.shape[0])})\n",
    "\n",
    "    # Chia bộ Train thành 20 phần\n",
    "    choices = []\n",
    "    row_num = 20\n",
    "    list_choice = np.arange(X_false_train.shape[0])\n",
    "    n = X_false_train.shape[0] // row_num\n",
    "    for i in range(row_num-1):\n",
    "        choice = np.random.choice(list_choice, n, replace=False)\n",
    "        choices.append(choice)\n",
    "        list_choice = list_choice[~np.isin(list_choice, choice)]\n",
    "    choices.append(np.array(list_choice))\n",
    "\n",
    "    # Huấn luyện 20 cái mô hình\n",
    "    n = X_true_train.shape[0]\n",
    "    models = []\n",
    "    for choice in choices:\n",
    "        choice_true = np.random.choice(n, 3*n//4, replace=False)\n",
    "        choice_false = choice\n",
    "\n",
    "        index_true_train = index_true['True'].isin(choice_true)\n",
    "        index_false_train = index_false['False'].isin(choice_false)\n",
    "\n",
    "        X_true_train_choice = X_true_train[index_true_train]\n",
    "        X_false_train_choice = X_false_train[index_false_train]\n",
    "\n",
    "        X_full_train = scsp.vstack((X_true_train_choice, X_false_train_choice))\n",
    "        X_train = X_full_train\n",
    "\n",
    "        y_true = pd.DataFrame({'True': np.array([True] * X_true_train_choice.shape[0])})\n",
    "        y_false = pd.DataFrame({'True': np.array([False] * X_false_train_choice.shape[0])})\n",
    "        y_train = pd.concat([y_true, y_false])\n",
    "        y_train = 2 * y_train['True'] - 1\n",
    "        \n",
    "        model = svm.SVC(kernel='linear')\n",
    "        model.fit(X_train, y_train)\n",
    "        models.append(model)\n",
    "\n",
    "    # Chạy thử tập Test\n",
    "    y_hat = models[0].predict(X_test)\n",
    "    for i in range(1, row_num):\n",
    "        y_pre = 2 * (models[i].predict(X_test)) - 1\n",
    "        y_hat += y_pre\n",
    "    y_hat = (y_hat >= 0)\n",
    "    \n",
    "    return {\n",
    "        'Accuracy' : skl.metrics.accuracy_score(y_test, y_hat),\n",
    "        'Recall' : skl.metrics.recall_score(y_test, y_hat),\n",
    "        'Confusion Matrix' : pd.crosstab(y_hat, y_test, rownames=['Predicted'])\n",
    "    }"
   ]
  },
  {
   "cell_type": "code",
   "execution_count": 39,
   "id": "4d1de157-af10-499e-b09e-d114772be29c",
   "metadata": {},
   "outputs": [],
   "source": [
    "list_genre = np.array(list(set(', '.join(data['Genre']).split(', '))))"
   ]
  },
  {
   "cell_type": "code",
   "execution_count": 59,
   "id": "5cc035a0-8b45-4936-851e-788c0a1360ab",
   "metadata": {},
   "outputs": [
    {
     "name": "stdout",
     "output_type": "stream",
     "text": [
      "Animation 25\n",
      "History 3\n",
      "Sci-Fi 12\n",
      "News 0\n",
      "Musical 8\n",
      "Family 23\n",
      "Fantasy 14\n",
      "Sport 6\n",
      "Biography 5\n",
      "Comedy 69\n",
      "Mystery 8\n",
      "Adventure 19\n",
      "Romance 26\n",
      "Action 51\n",
      "Horror 25\n",
      "Crime 28\n",
      "Documentary 30\n",
      "Music 21\n",
      "Western 0\n",
      "Drama 108\n",
      "Thriller 39\n",
      "War 3\n"
     ]
    }
   ],
   "source": [
    "for genre in list_genre:\n",
    "    print(genre, data3['Genre'].str.contains(genre).sum())"
   ]
  },
  {
   "cell_type": "code",
   "execution_count": null,
   "id": "791b8e8a-7416-4dea-b730-b920787838a7",
   "metadata": {},
   "outputs": [],
   "source": [
    "genre_result = {}\n",
    "for genre in list_genre:\n",
    "    genre_result[genre] = VietAnh(genre)\n",
    "    print(genre)"
   ]
  },
  {
   "cell_type": "code",
   "execution_count": 63,
   "id": "18558710-4d0a-4ce7-8c16-d6eb73485207",
   "metadata": {},
   "outputs": [
    {
     "name": "stdout",
     "output_type": "stream",
     "text": [
      "Animation 0.9063545150501672 0.32\n",
      "History 0.9531772575250836 0.6666666666666666\n",
      "Sci-Fi 0.9331103678929766 0.3333333333333333\n",
      "News 1.0 0.0\n",
      "Musical 0.9765886287625418 0.125\n",
      "Family 0.9230769230769231 0.34782608695652173\n",
      "Fantasy 0.862876254180602 0.2857142857142857\n",
      "Sport 0.9732441471571907 0.0\n",
      "Biography 0.862876254180602 0.8\n",
      "Comedy 0.23076923076923078 1.0\n",
      "Mystery 0.7692307692307693 1.0\n",
      "Adventure 0.6454849498327759 0.7894736842105263\n",
      "Romance 0.35451505016722407 0.9230769230769231\n",
      "Action 0.3377926421404682 0.9607843137254902\n",
      "Horror 0.6588628762541806 0.8\n",
      "Crime 0.3210702341137124 0.9642857142857143\n",
      "Documentary 0.8762541806020067 0.5666666666666667\n",
      "Music 0.9498327759197325 0.47619047619047616\n",
      "Western 1.0 0.0\n",
      "Drama 0.3612040133779264 1.0\n",
      "Thriller 0.23076923076923078 0.9487179487179487\n",
      "War 0.9866220735785953 0.3333333333333333\n"
     ]
    }
   ],
   "source": [
    "for i in genre_result.items():\n",
    "    print(i[0], i[1]['Accuracy'], i[1]['Recall'])"
   ]
  },
  {
   "cell_type": "code",
   "execution_count": 41,
   "id": "014e21b8-8c84-4aef-b396-8e5ecc5a94f5",
   "metadata": {},
   "outputs": [
    {
     "data": {
      "image/png": "[encoded data removed]",
      "text/plain": [
       "<Figure size 1500x1000 with 1 Axes>"
      ]
     },
     "metadata": {},
     "output_type": "display_data"
    }
   ],
   "source": [
    "data2 = pd.DataFrame(genre_result)\n",
    "\n",
    "data3 = pd.DataFrame({'Accuracy': data2.iloc[0],\n",
    "                      'Recall' : data2.iloc[1]})\n",
    "\n",
    "data_melt = data3.reset_index().melt(id_vars='index',\n",
    "                       value_vars=['Accuracy', 'Recall'],\n",
    "                       var_name='Score',\n",
    "                       value_name='Value')\n",
    "data_groupby = data_melt.groupby(['index', 'Score']).mean().reset_index()\n",
    "\n",
    "sns.barplot(data_groupby, x='index', y='Value', hue='Score')\n",
    "plt.title('Score of Each Genre')\n",
    "plt.xticks(rotation=90)\n",
    "figure = plt.gcf() # get current figure\n",
    "figure.set_size_inches(15, 10)\n",
    "# when saving, specify the DPI\n",
    "plt.savefig(\"Score of Each Genre.jpg\", dpi = 200);\n",
    "# plt.savefig('/kaggle/working/Score of Each Genre.jpg');"
   ]
  },
  {
   "cell_type": "code",
   "execution_count": null,
   "id": "4ef255ce-3589-434f-bd8e-2d2e17a83188",
   "metadata": {},
   "outputs": [],
   "source": []
  }
 ],
 "metadata": {
  "kernelspec": {
   "display_name": "Python 3 (ipykernel)",
   "language": "python",
   "name": "python3"
  },
  "language_info": {
   "codemirror_mode": {
    "name": "ipython",
    "version": 3
   },
   "file_extension": ".py",
   "mimetype": "text/x-python",
   "name": "python",
   "nbconvert_exporter": "python",
   "pygments_lexer": "ipython3",
   "version": "3.10.6"
  }
 },
 "nbformat": 4,
 "nbformat_minor": 5
}
