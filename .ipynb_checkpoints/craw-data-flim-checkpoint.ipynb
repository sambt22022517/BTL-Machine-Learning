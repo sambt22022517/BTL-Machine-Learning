{
 "cells": [
  {
   "cell_type": "code",
   "execution_count": 1,
   "metadata": {
    "_cell_guid": "b1076dfc-b9ad-4769-8c92-a6c4dae69d19",
    "_uuid": "8f2839f25d086af736a60e9eeb907d3b93b6e0e5",
    "execution": {
     "iopub.execute_input": "2023-11-25T15:38:04.975098Z",
     "iopub.status.busy": "2023-11-25T15:38:04.974646Z",
     "iopub.status.idle": "2023-11-25T15:38:05.427712Z",
     "shell.execute_reply": "2023-11-25T15:38:05.426825Z",
     "shell.execute_reply.started": "2023-11-25T15:38:04.975061Z"
    }
   },
   "outputs": [],
   "source": [
    "# This Python 3 environment comes with many helpful analytics libraries installed\n",
    "# It is defined by the kaggle/python Docker image: https://github.com/kaggle/docker-python\n",
    "# For example, here's several helpful packages to load\n",
    "\n",
    "# Input data files are available in the read-only \"../input/\" directory\n",
    "# For example, running this (by clicking run or pressing Shift+Enter) will list all files under the input directory\n",
    "\n",
    "import os\n",
    "for dirname, _, filenames in os.walk('/kaggle/input'):\n",
    "    for filename in filenames:\n",
    "        print(os.path.join(dirname, filename))\n",
    "\n",
    "# You can write up to 20GB to the current directory (/kaggle/working/) that gets preserved as output when you create a version using \"Save & Run All\" \n",
    "# You can also write temporary files to /kaggle/temp/, but they won't be saved outside of the current session"
   ]
  },
  {
   "cell_type": "markdown",
   "metadata": {},
   "source": [
    "# B1 : khai báo thư viện"
   ]
  },
  {
   "cell_type": "code",
   "execution_count": 2,
   "metadata": {
    "execution": {
     "iopub.execute_input": "2023-11-25T15:38:05.430094Z",
     "iopub.status.busy": "2023-11-25T15:38:05.429614Z",
     "iopub.status.idle": "2023-11-25T15:38:05.716585Z",
     "shell.execute_reply": "2023-11-25T15:38:05.715308Z",
     "shell.execute_reply.started": "2023-11-25T15:38:05.430063Z"
    }
   },
   "outputs": [],
   "source": [
    "import numpy as np \n",
    "from bs4 import BeautifulSoup\n",
    "import requests\n",
    "import pandas as pd\n",
    "import csv\n",
    "from datetime import datetime\n",
    "import sys\n",
    "import json\n",
    "sys.setrecursionlimit(10**7)"
   ]
  },
  {
   "cell_type": "markdown",
   "metadata": {},
   "source": [
    "# B2:lấy id phim bằng cosole (chạy croll rồi mới download id)"
   ]
  },
  {
   "cell_type": "code",
   "execution_count": 4,
   "metadata": {
    "execution": {
     "iopub.execute_input": "2023-11-25T15:38:10.201055Z",
     "iopub.status.busy": "2023-11-25T15:38:10.199616Z",
     "iopub.status.idle": "2023-11-25T15:38:10.210889Z",
     "shell.execute_reply": "2023-11-25T15:38:10.209656Z",
     "shell.execute_reply.started": "2023-11-25T15:38:10.201005Z"
    }
   },
   "outputs": [
    {
     "data": {
      "text/plain": [
       "\"\\nfunction scrollPage() {\\n  window.scrollTo(0, document.body.scrollHeight);\\n}\\n\\nfunction loadAllResults() {\\n  const loadMoreButton = document.querySelector('#__next > main > div.ipc-page-content-container.ipc-page-content-container--center.sc-872d7ac7-0.fqEQWL > div.ipc-page-content-container.ipc-page-content-container--center > section > section > div > section > section > div:nth-child(2) > div > section > div.ipc-page-grid.ipc-page-grid--bias-left.ipc-page-grid__item.ipc-page-grid__item--span-2 > div.ipc-page-grid__item.ipc-page-grid__item--span-2 > div.sc-619d2eab-0.fOxpqs > div > span > button');\\n  if (loadMoreButton) {\\n    loadMoreButton.click();\\n    setTimeout(loadAllResults, 1); // Đợi trước khi tải thêm\\n  }\\n}\\nloadAllResults();\\n\""
      ]
     },
     "execution_count": 4,
     "metadata": {},
     "output_type": "execute_result"
    }
   ],
   "source": [
    "'''\n",
    "function scrollPage() {\n",
    "  window.scrollTo(0, document.body.scrollHeight);\n",
    "}\n",
    "\n",
    "function loadAllResults() {\n",
    "  const loadMoreButton = document.querySelector('#__next > main > div.ipc-page-content-container.ipc-page-content-container--center.sc-872d7ac7-0.fqEQWL > div.ipc-page-content-container.ipc-page-content-container--center > section > section > div > section > section > div:nth-child(2) > div > section > div.ipc-page-grid.ipc-page-grid--bias-left.ipc-page-grid__item.ipc-page-grid__item--span-2 > div.ipc-page-grid__item.ipc-page-grid__item--span-2 > div.sc-619d2eab-0.fOxpqs > div > span > button');\n",
    "  if (loadMoreButton) {\n",
    "    loadMoreButton.click();\n",
    "    setTimeout(loadAllResults, 1); // Đợi trước khi tải thêm\n",
    "  }\n",
    "}\n",
    "loadAllResults();\n",
    "'''\n"
   ]
  },
  {
   "cell_type": "code",
   "execution_count": 5,
   "metadata": {
    "execution": {
     "iopub.execute_input": "2023-11-25T15:38:13.612187Z",
     "iopub.status.busy": "2023-11-25T15:38:13.611706Z",
     "iopub.status.idle": "2023-11-25T15:38:13.620873Z",
     "shell.execute_reply": "2023-11-25T15:38:13.619639Z",
     "shell.execute_reply.started": "2023-11-25T15:38:13.612152Z"
    }
   },
   "outputs": [
    {
     "data": {
      "text/plain": [
       "\"\\n\\n// Lấy tất cả các phần tử có class là 'ipc-lockup-overlay' và 'ipc-focusable'\\nconst elements = document.querySelectorAll('.ipc-lockup-overlay.ipc-focusable');\\n\\n// Tạo một mảng để lưu dữ liệu\\nconst data = [];\\n\\n// Lặp qua từng phần tử và lấy giá trị của thuộc tính 'href'\\nelements.forEach(element => {\\n  const hrefValue = element.getAttribute('href');\\n  data.push(hrefValue);\\n});\\n\\n// Tạo chuỗi CSV từ mảng dữ liệu\\nconst csvContent = 'data:text/csv;charset=utf-8,' + data.join('\\n');\\n\\n// Tạo một liên kết Data URI để tải file CSV\\nconst encodedUri = encodeURI(csvContent);\\n\\n// Tạo một phần tử a để tạo liên kết và kích hoạt tải về\\nconst link = document.createElement('a');\\nlink.setAttribute('href', encodedUri);\\nlink.setAttribute('download', 'output.csv');\\ndocument.body.appendChild(link);\\nlink.click();\\n\\n\""
      ]
     },
     "execution_count": 5,
     "metadata": {},
     "output_type": "execute_result"
    }
   ],
   "source": [
    "'''\n",
    "\n",
    "// Lấy tất cả các phần tử có class là 'ipc-lockup-overlay' và 'ipc-focusable'\n",
    "const elements = document.querySelectorAll('.ipc-lockup-overlay.ipc-focusable');\n",
    "\n",
    "// Tạo một mảng để lưu dữ liệu\n",
    "const data = [];\n",
    "\n",
    "// Lặp qua từng phần tử và lấy giá trị của thuộc tính 'href'\n",
    "elements.forEach(element => {\n",
    "  const hrefValue = element.getAttribute('href');\n",
    "  data.push(hrefValue);\n",
    "});\n",
    "\n",
    "// Tạo chuỗi CSV từ mảng dữ liệu\n",
    "const csvContent = 'data:text/csv;charset=utf-8,' + data.join('\\n');\n",
    "\n",
    "// Tạo một liên kết Data URI để tải file CSV\n",
    "const encodedUri = encodeURI(csvContent);\n",
    "\n",
    "// Tạo một phần tử a để tạo liên kết và kích hoạt tải về\n",
    "const link = document.createElement('a');\n",
    "link.setAttribute('href', encodedUri);\n",
    "link.setAttribute('download', 'output.csv');\n",
    "document.body.appendChild(link);\n",
    "link.click();\n",
    "\n",
    "'''\n",
    "    "
   ]
  },
  {
   "cell_type": "code",
   "execution_count": 5,
   "metadata": {
    "execution": {
     "iopub.execute_input": "2023-11-25T15:38:18.303400Z",
     "iopub.status.busy": "2023-11-25T15:38:18.302991Z",
     "iopub.status.idle": "2023-11-25T15:38:18.311225Z",
     "shell.execute_reply": "2023-11-25T15:38:18.309796Z",
     "shell.execute_reply.started": "2023-11-25T15:38:18.303369Z"
    }
   },
   "outputs": [],
   "source": [
    "import re\n",
    "def convert_duration_to_minutes(duration_str):\n",
    "    # Sử dụng biểu thức chính quy để tìm các phần tử thời gian trong chuỗi\n",
    "    match = re.match(r'PT(\\d+H)?(\\d+M)?', duration_str)\n",
    "\n",
    "    if match:\n",
    "        hours = int(match.group(1)[:-1]) if match.group(1) else 0\n",
    "        minutes = int(match.group(2)[:-1]) if match.group(2) else 0\n",
    "\n",
    "        total_minutes = hours * 60 + minutes\n",
    "        return total_minutes\n",
    "\n",
    "    return None"
   ]
  },
  {
   "cell_type": "code",
   "execution_count": 6,
   "metadata": {
    "execution": {
     "iopub.execute_input": "2023-11-25T15:38:21.466289Z",
     "iopub.status.busy": "2023-11-25T15:38:21.465882Z",
     "iopub.status.idle": "2023-11-25T15:38:21.487732Z",
     "shell.execute_reply": "2023-11-25T15:38:21.486596Z",
     "shell.execute_reply.started": "2023-11-25T15:38:21.466256Z"
    }
   },
   "outputs": [],
   "source": [
    "# hàm cào thông tin phim\n",
    "def Scraping_data(url):\n",
    "    HEADERS = {'User-Agent': 'Mozilla/5.0 (iPad; CPU OS 12_2 like Mac OS X) AppleWebKit/605.1.15 (KHTML, like Gecko) Mobile/15E148'}\n",
    "    req = requests.get(url,headers=HEADERS)\n",
    "    soup = BeautifulSoup(req.text, 'html')\n",
    "    data = {}\n",
    "    script_tag = soup.find('script' , type=\"application/ld+json\")\n",
    "    elements = json.loads(script_tag.string)\n",
    "    #print(elements)\n",
    "    # tìm tên năm sản xuất , độ tuổi , thời lượng phim\n",
    "    data['Name'] = elements['name']\n",
    "    if 'datePublished' in elements :\n",
    "        data['Release Year'] = elements['datePublished'][:4]\n",
    "    else:\n",
    "        return None\n",
    "    data['Certificate'] = None if (elements is None) or (elements.get('contentRating') is None) else elements['contentRating']\n",
    "    # thời gian của phim\n",
    "    data['Duration'] = None\n",
    "    if 'duration' in elements :\n",
    "        data['Duration'] = convert_duration_to_minutes(elements['duration'])\n",
    "\n",
    "    # link poster \n",
    "    data['Poster'] = elements['image']\n",
    "    if 'trailer' in elements:\n",
    "        data['Trailer'] = elements['trailer']['url']\n",
    "    else :\n",
    "        data['Trailer'] = None\n",
    "    data['Genre'] = elements['genre']\n",
    "    data['Rating'] = elements['aggregateRating']['ratingValue']\n",
    "    data['Rating Count'] = elements['aggregateRating']['ratingCount']\n",
    "    \n",
    "    # tìm nước sản xuất \n",
    "    origins =  soup.find('li' ,{'class': 'ipc-metadata-list__item', 'data-testid': 'title-details-origin','role' : \"presentation\"}).find_all('a')\n",
    "    data['Country'] = [origin.text for origin in origins]\n",
    "    \n",
    "    # tìm đạo diễn , biên kịch\n",
    "    data['Director'] = [director['name'] for director in elements['director'] if '@type' in director and director['@type'] == 'Person']\n",
    "    if 'creator' in elements:\n",
    "        data['Writer'] = [creator['name'] for creator in elements['creator'] if '@type' in creator and creator['@type'] == 'Person']\n",
    "    else :\n",
    "        data['Writer'] = data['Director']\n",
    "    if 'actor' in elements :\n",
    "        data['Stars'] = [actor['name'] for actor in elements['actor']]\n",
    "    else :\n",
    "        data['Stars'] = None \n",
    "    data['Story'] = None\n",
    "    if 'description'in elements :\n",
    "        data['Story'] = elements['description']\n",
    "    \n",
    "    # chi phí , doanh thu bộ flim\n",
    "    Box_office = soup.find_all('li',class_ = \"ipc-metadata-list__item sc-ae184607-2 jqHug\")\n",
    "    data['Budget'] = None\n",
    "    data['Gross US & Canada'] = None\n",
    "    data['Opening weekend US & Canada'] = None\n",
    "    data['Gross worldwide'] = None\n",
    "    \n",
    "    if Box_office is not None:\n",
    "        for i in range(0,len(Box_office)) :\n",
    "            data[Box_office[i].find_all('span')[0].text] = Box_office[i].find_all('span')[1].text\n",
    "        #data['Income'] = soup.find_all('li',class_ = \"ipc-metadata-list__item sc-ae184607-2 jqHug\")[3].find_all('span')[1].text[1:]\n",
    "    return data"
   ]
  },
  {
   "cell_type": "code",
   "execution_count": 7,
   "metadata": {
    "execution": {
     "iopub.execute_input": "2023-11-25T15:38:23.186003Z",
     "iopub.status.busy": "2023-11-25T15:38:23.185569Z",
     "iopub.status.idle": "2023-11-25T15:38:23.222337Z",
     "shell.execute_reply": "2023-11-25T15:38:23.221387Z",
     "shell.execute_reply.started": "2023-11-25T15:38:23.185969Z"
    }
   },
   "outputs": [],
   "source": [
    "# đọc file url_flim\n",
    "\n",
    "urls = pd.read_csv('/kaggle/input/url-flims/link_flims.csv',names = ['url'])\n",
    "urls.url = 'https://www.imdb.com/' + urls.url"
   ]
  },
  {
   "cell_type": "code",
   "execution_count": null,
   "metadata": {
    "execution": {
     "iopub.execute_input": "2023-11-25T15:38:40.646640Z",
     "iopub.status.busy": "2023-11-25T15:38:40.646219Z"
    }
   },
   "outputs": [
    {
     "name": "stdout",
     "output_type": "stream",
     "text": [
      "https://www.imdb.com//title/tt1392170/?ref_=sr_i_1\n",
      "https://www.imdb.com//title/tt1951264/?ref_=sr_i_2\n",
      "https://www.imdb.com//title/tt0446029/?ref_=sr_i_3\n",
      "https://www.imdb.com//title/tt1649419/?ref_=sr_i_4\n",
      "https://www.imdb.com//title/tt0993846/?ref_=sr_i_5\n",
      "https://www.imdb.com//title/tt0361748/?ref_=sr_i_6\n",
      "https://www.imdb.com//title/tt2582802/?ref_=sr_i_7\n",
      "https://www.imdb.com//title/tt1375666/?ref_=sr_i_8\n",
      "https://www.imdb.com//title/tt1038686/?ref_=sr_i_9\n",
      "https://www.imdb.com//title/tt1981677/?ref_=sr_i_10\n",
      "https://www.imdb.com//title/tt1285016/?ref_=sr_i_11\n",
      "https://www.imdb.com//title/tt1446714/?ref_=sr_i_12\n"
     ]
    }
   ],
   "source": [
    "# cào data\n",
    "data_flims = []\n",
    "\n",
    "for url in urls.url :\n",
    "    print(url)\n",
    "    data = Scraping_data(url)\n",
    "    if data is not None:\n",
    "        data_flims.append(data)\n",
    "\n"
   ]
  },
  {
   "cell_type": "code",
   "execution_count": null,
   "metadata": {},
   "outputs": [],
   "source": [
    "df = pd.DataFrame(data_flims)\n",
    "df"
   ]
  },
  {
   "cell_type": "code",
   "execution_count": null,
   "metadata": {},
   "outputs": [],
   "source": [
    "df.to_csv('data_flim.csv',index = False)"
   ]
  },
  {
   "cell_type": "code",
   "execution_count": 44,
   "metadata": {
    "execution": {
     "iopub.execute_input": "2023-11-25T14:14:57.281658Z",
     "iopub.status.busy": "2023-11-25T14:14:57.281234Z",
     "iopub.status.idle": "2023-11-25T14:14:57.358906Z",
     "shell.execute_reply": "2023-11-25T14:14:57.357243Z",
     "shell.execute_reply.started": "2023-11-25T14:14:57.281621Z"
    }
   },
   "outputs": [],
   "source": []
  },
  {
   "cell_type": "code",
   "execution_count": null,
   "metadata": {},
   "outputs": [],
   "source": []
  },
  {
   "cell_type": "code",
   "execution_count": null,
   "metadata": {},
   "outputs": [],
   "source": []
  },
  {
   "cell_type": "code",
   "execution_count": null,
   "metadata": {},
   "outputs": [],
   "source": []
  },
  {
   "cell_type": "code",
   "execution_count": null,
   "metadata": {},
   "outputs": [],
   "source": []
  }
 ],
 "metadata": {
  "kaggle": {
   "accelerator": "none",
   "dataSources": [
    {
     "datasetId": 4058156,
     "sourceId": 7051335,
     "sourceType": "datasetVersion"
    }
   ],
   "dockerImageVersionId": 30587,
   "isGpuEnabled": false,
   "isInternetEnabled": true,
   "language": "python",
   "sourceType": "notebook"
  },
  "kernelspec": {
   "display_name": "Python 3 (ipykernel)",
   "language": "python",
   "name": "python3"
  },
  "language_info": {
   "codemirror_mode": {
    "name": "ipython",
    "version": 3
   },
   "file_extension": ".py",
   "mimetype": "text/x-python",
   "name": "python",
   "nbconvert_exporter": "python",
   "pygments_lexer": "ipython3",
   "version": "3.10.6"
  }
 },
 "nbformat": 4,
 "nbformat_minor": 4
}
