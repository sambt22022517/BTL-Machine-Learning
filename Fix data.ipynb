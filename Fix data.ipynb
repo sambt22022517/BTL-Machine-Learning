{
 "cells": [
  {
   "cell_type": "code",
   "execution_count": 89,
   "id": "9b58cbdb-e181-4e61-ba18-e76f0c40165b",
   "metadata": {},
   "outputs": [],
   "source": [
    "import pandas as pd\n",
    "import numpy as np"
   ]
  },
  {
   "cell_type": "code",
   "execution_count": 132,
   "id": "aee3f841-52d7-4975-bc55-004ef6793fea",
   "metadata": {},
   "outputs": [
    {
     "data": {
      "text/html": [
       "<div>\n",
       "<style scoped>\n",
       "    .dataframe tbody tr th:only-of-type {\n",
       "        vertical-align: middle;\n",
       "    }\n",
       "\n",
       "    .dataframe tbody tr th {\n",
       "        vertical-align: top;\n",
       "    }\n",
       "\n",
       "    .dataframe thead th {\n",
       "        text-align: right;\n",
       "    }\n",
       "</style>\n",
       "<table border=\"1\" class=\"dataframe\">\n",
       "  <thead>\n",
       "    <tr style=\"text-align: right;\">\n",
       "      <th></th>\n",
       "      <th>Unnamed: 0</th>\n",
       "      <th>Name</th>\n",
       "      <th>Certificate</th>\n",
       "      <th>Poster</th>\n",
       "      <th>Genre</th>\n",
       "      <th>Director</th>\n",
       "      <th>Writer</th>\n",
       "      <th>Stars</th>\n",
       "      <th>Storyline</th>\n",
       "      <th>Rating</th>\n",
       "      <th>Rating Count</th>\n",
       "    </tr>\n",
       "  </thead>\n",
       "  <tbody>\n",
       "    <tr>\n",
       "      <th>0</th>\n",
       "      <td>0</td>\n",
       "      <td>The Dark Knight</td>\n",
       "      <td>PG-13</td>\n",
       "      <td>https://m.media-amazon.com/images/M/MV5BMTMxNT...</td>\n",
       "      <td>Action, Crime, Drama</td>\n",
       "      <td>Christopher Nolan</td>\n",
       "      <td>Jonathan Nolan, Christopher Nolan, David S. Goyer</td>\n",
       "      <td>Christian Bale, Heath Ledger, Aaron Eckhart, M...</td>\n",
       "      <td>When the menace known as the Joker wreaks havo...</td>\n",
       "      <td>9.0</td>\n",
       "      <td>2800000.0</td>\n",
       "    </tr>\n",
       "    <tr>\n",
       "      <th>1</th>\n",
       "      <td>1</td>\n",
       "      <td>The Lord of the Rings: The Return of the King</td>\n",
       "      <td>PG-13</td>\n",
       "      <td>https://m.media-amazon.com/images/M/MV5BNzA5ZD...</td>\n",
       "      <td>Action, Adventure, Drama</td>\n",
       "      <td>Peter Jackson</td>\n",
       "      <td>J.R.R. Tolkien, Fran Walsh, Philippa Boyens</td>\n",
       "      <td>Elijah Wood, Viggo Mortensen, Ian McKellen, Or...</td>\n",
       "      <td>Gandalf and Aragorn lead the World of Men agai...</td>\n",
       "      <td>9.0</td>\n",
       "      <td>1900000.0</td>\n",
       "    </tr>\n",
       "    <tr>\n",
       "      <th>2</th>\n",
       "      <td>2</td>\n",
       "      <td>Dr. Babasaheb Ambedkar</td>\n",
       "      <td>Unrated</td>\n",
       "      <td>https://m.media-amazon.com/images/M/MV5BNGNjZD...</td>\n",
       "      <td>Biography, History</td>\n",
       "      <td>Jabbar Patel</td>\n",
       "      <td>Daya Pawar, Arun Sadhu, Sooni Taraporevala</td>\n",
       "      <td>Mammootty, Sonali Kulkarni, Mohan Gokhale, Mri...</td>\n",
       "      <td>Biopic of B. R. Ambedkar, known mainly for his...</td>\n",
       "      <td>8.9</td>\n",
       "      <td>2700.0</td>\n",
       "    </tr>\n",
       "    <tr>\n",
       "      <th>3</th>\n",
       "      <td>3</td>\n",
       "      <td>The Lord of the Rings: The Fellowship of the Ring</td>\n",
       "      <td>PG-13</td>\n",
       "      <td>https://m.media-amazon.com/images/M/MV5BN2EyZj...</td>\n",
       "      <td>Action, Adventure, Drama</td>\n",
       "      <td>Peter Jackson</td>\n",
       "      <td>J.R.R. Tolkien, Fran Walsh, Philippa Boyens</td>\n",
       "      <td>Elijah Wood, Ian McKellen, Orlando Bloom, Sean...</td>\n",
       "      <td>A meek Hobbit from the Shire and eight compani...</td>\n",
       "      <td>8.8</td>\n",
       "      <td>2000000.0</td>\n",
       "    </tr>\n",
       "    <tr>\n",
       "      <th>4</th>\n",
       "      <td>4</td>\n",
       "      <td>The Lord of the Rings: The Two Towers</td>\n",
       "      <td>PG-13</td>\n",
       "      <td>https://m.media-amazon.com/images/M/MV5BZGMxZT...</td>\n",
       "      <td>Action, Adventure, Drama</td>\n",
       "      <td>Peter Jackson</td>\n",
       "      <td>J.R.R. Tolkien, Fran Walsh, Philippa Boyens</td>\n",
       "      <td>Elijah Wood, Ian McKellen, Viggo Mortensen, Or...</td>\n",
       "      <td>While Frodo and Sam edge closer to Mordor with...</td>\n",
       "      <td>8.8</td>\n",
       "      <td>1700000.0</td>\n",
       "    </tr>\n",
       "  </tbody>\n",
       "</table>\n",
       "</div>"
      ],
      "text/plain": [
       "   Unnamed: 0                                               Name Certificate  \\\n",
       "0           0                                    The Dark Knight       PG-13   \n",
       "1           1      The Lord of the Rings: The Return of the King       PG-13   \n",
       "2           2                             Dr. Babasaheb Ambedkar     Unrated   \n",
       "3           3  The Lord of the Rings: The Fellowship of the Ring       PG-13   \n",
       "4           4              The Lord of the Rings: The Two Towers       PG-13   \n",
       "\n",
       "                                              Poster  \\\n",
       "0  https://m.media-amazon.com/images/M/MV5BMTMxNT...   \n",
       "1  https://m.media-amazon.com/images/M/MV5BNzA5ZD...   \n",
       "2  https://m.media-amazon.com/images/M/MV5BNGNjZD...   \n",
       "3  https://m.media-amazon.com/images/M/MV5BN2EyZj...   \n",
       "4  https://m.media-amazon.com/images/M/MV5BZGMxZT...   \n",
       "\n",
       "                      Genre           Director  \\\n",
       "0      Action, Crime, Drama  Christopher Nolan   \n",
       "1  Action, Adventure, Drama      Peter Jackson   \n",
       "2        Biography, History       Jabbar Patel   \n",
       "3  Action, Adventure, Drama      Peter Jackson   \n",
       "4  Action, Adventure, Drama      Peter Jackson   \n",
       "\n",
       "                                              Writer  \\\n",
       "0  Jonathan Nolan, Christopher Nolan, David S. Goyer   \n",
       "1        J.R.R. Tolkien, Fran Walsh, Philippa Boyens   \n",
       "2         Daya Pawar, Arun Sadhu, Sooni Taraporevala   \n",
       "3        J.R.R. Tolkien, Fran Walsh, Philippa Boyens   \n",
       "4        J.R.R. Tolkien, Fran Walsh, Philippa Boyens   \n",
       "\n",
       "                                               Stars  \\\n",
       "0  Christian Bale, Heath Ledger, Aaron Eckhart, M...   \n",
       "1  Elijah Wood, Viggo Mortensen, Ian McKellen, Or...   \n",
       "2  Mammootty, Sonali Kulkarni, Mohan Gokhale, Mri...   \n",
       "3  Elijah Wood, Ian McKellen, Orlando Bloom, Sean...   \n",
       "4  Elijah Wood, Ian McKellen, Viggo Mortensen, Or...   \n",
       "\n",
       "                                           Storyline  Rating  Rating Count  \n",
       "0  When the menace known as the Joker wreaks havo...     9.0     2800000.0  \n",
       "1  Gandalf and Aragorn lead the World of Men agai...     9.0     1900000.0  \n",
       "2  Biopic of B. R. Ambedkar, known mainly for his...     8.9        2700.0  \n",
       "3  A meek Hobbit from the Shire and eight compani...     8.8     2000000.0  \n",
       "4  While Frodo and Sam edge closer to Mordor with...     8.8     1700000.0  "
      ]
     },
     "execution_count": 132,
     "metadata": {},
     "output_type": "execute_result"
    }
   ],
   "source": [
    "file_name = 'Cleaned_Data.csv'\n",
    "data = pd.read_csv(file_name)\n",
    "data.head()"
   ]
  },
  {
   "cell_type": "code",
   "execution_count": 133,
   "id": "862b6709-7784-4eeb-8a10-5e8428e3e555",
   "metadata": {},
   "outputs": [
    {
     "data": {
      "text/plain": [
       "23003"
      ]
     },
     "execution_count": 133,
     "metadata": {},
     "output_type": "execute_result"
    }
   ],
   "source": [
    "data['Name'].unique().shape[0]"
   ]
  },
  {
   "cell_type": "code",
   "execution_count": 134,
   "id": "7350a2bc-1fd3-4e30-b9cf-e03149f7afe0",
   "metadata": {},
   "outputs": [
    {
     "data": {
      "text/plain": [
       "23778"
      ]
     },
     "execution_count": 134,
     "metadata": {},
     "output_type": "execute_result"
    }
   ],
   "source": [
    "data.shape[0]"
   ]
  },
  {
   "cell_type": "code",
   "execution_count": 135,
   "id": "84f7999d-1509-422d-9e9d-58d463d78d26",
   "metadata": {},
   "outputs": [
    {
     "data": {
      "text/plain": [
       "array(['PG-13', 'Unrated', 'Not Rated', 'PG', 'R', 'G', 'TV-14', 'TV-MA',\n",
       "       'TV-PG', 'NC-17', 'TV-Y7', 'TV-G', '13+', '57m', '56m', '47m',\n",
       "       '50m', '52m', 'Approved', '18+', '59m', '16+', '12', '45m',\n",
       "       'MA-17', 'TV-Y7-FV', '46m', '55m', 'AO', '51m', 'C13', 'C16', 'P',\n",
       "       'C18', 'TV-Y', 'M', '(Banned)', '6+', 'PG-12', 'R-18', '18 +',\n",
       "       'R-12', '12+', '6 +', '0+', 'GP', 'U', 'Universal', '7+', 'R-15',\n",
       "       '15+', '16', 'AL', '6', '9'], dtype=object)"
      ]
     },
     "execution_count": 135,
     "metadata": {},
     "output_type": "execute_result"
    }
   ],
   "source": [
    "data['Certificate'].unique()"
   ]
  },
  {
   "cell_type": "code",
   "execution_count": 136,
   "id": "38602689-6484-4abf-8762-bc134eb92667",
   "metadata": {},
   "outputs": [
    {
     "name": "stderr",
     "output_type": "stream",
     "text": [
      "C:\\Users\\buisa\\AppData\\Local\\Temp\\ipykernel_14112\\1775515141.py:1: SettingWithCopyWarning: \n",
      "A value is trying to be set on a copy of a slice from a DataFrame\n",
      "\n",
      "See the caveats in the documentation: https://pandas.pydata.org/pandas-docs/stable/user_guide/indexing.html#returning-a-view-versus-a-copy\n",
      "  data['Certificate'][data['Certificate'].str.contains('m')] = 'Unrated'\n"
     ]
    },
    {
     "data": {
      "text/plain": [
       "array(['PG-13', 'Unrated', 'Not Rated', 'PG', 'R', 'G', 'TV-14', 'TV-MA',\n",
       "       'TV-PG', 'NC-17', 'TV-Y7', 'TV-G', '13+', 'Approved', '18+', '16+',\n",
       "       '12', 'MA-17', 'TV-Y7-FV', 'AO', 'C13', 'C16', 'P', 'C18', 'TV-Y',\n",
       "       'M', '(Banned)', '6+', 'PG-12', 'R-18', '18 +', 'R-12', '12+',\n",
       "       '6 +', '0+', 'GP', 'U', 'Universal', '7+', 'R-15', '15+', '16',\n",
       "       'AL', '6', '9'], dtype=object)"
      ]
     },
     "execution_count": 136,
     "metadata": {},
     "output_type": "execute_result"
    }
   ],
   "source": [
    "data['Certificate'][data['Certificate'].str.contains('m')] = 'Unrated'\n",
    "data['Certificate'].unique()"
   ]
  },
  {
   "cell_type": "code",
   "execution_count": 137,
   "id": "f42eded9-06e5-4206-9d2f-fb980ce166f2",
   "metadata": {},
   "outputs": [
    {
     "name": "stderr",
     "output_type": "stream",
     "text": [
      "C:\\Users\\buisa\\AppData\\Local\\Temp\\ipykernel_14112\\4136217094.py:1: SettingWithCopyWarning: \n",
      "A value is trying to be set on a copy of a slice from a DataFrame\n",
      "\n",
      "See the caveats in the documentation: https://pandas.pydata.org/pandas-docs/stable/user_guide/indexing.html#returning-a-view-versus-a-copy\n",
      "  data['Certificate'][(data['Certificate'] == '13+')] = 'C13'\n"
     ]
    },
    {
     "data": {
      "text/plain": [
       "array(['PG-13', 'Unrated', 'Not Rated', 'PG', 'R', 'G', 'TV-14', 'TV-MA',\n",
       "       'TV-PG', 'NC-17', 'TV-Y7', 'TV-G', 'C13', 'Approved', '18+', '16+',\n",
       "       '12', 'MA-17', 'TV-Y7-FV', 'AO', 'C16', 'P', 'C18', 'TV-Y', 'M',\n",
       "       '(Banned)', '6+', 'PG-12', 'R-18', '18 +', 'R-12', '12+', '6 +',\n",
       "       '0+', 'GP', 'U', 'Universal', '7+', 'R-15', '15+', '16', 'AL', '6',\n",
       "       '9'], dtype=object)"
      ]
     },
     "execution_count": 137,
     "metadata": {},
     "output_type": "execute_result"
    }
   ],
   "source": [
    "data['Certificate'][(data['Certificate'] == '13+')] = 'C13'\n",
    "data['Certificate'].unique()"
   ]
  },
  {
   "cell_type": "code",
   "execution_count": 138,
   "id": "5878b9fa-c2f0-4968-9c09-74ed9665ea3c",
   "metadata": {},
   "outputs": [
    {
     "name": "stderr",
     "output_type": "stream",
     "text": [
      "C:\\Users\\buisa\\AppData\\Local\\Temp\\ipykernel_14112\\1471521702.py:2: SettingWithCopyWarning: \n",
      "A value is trying to be set on a copy of a slice from a DataFrame\n",
      "\n",
      "See the caveats in the documentation: https://pandas.pydata.org/pandas-docs/stable/user_guide/indexing.html#returning-a-view-versus-a-copy\n",
      "  data['Certificate'][mask] = 'C18'\n"
     ]
    },
    {
     "data": {
      "text/plain": [
       "array(['PG-13', 'Unrated', 'Not Rated', 'PG', 'R', 'G', 'TV-14', 'TV-MA',\n",
       "       'TV-PG', 'NC-17', 'TV-Y7', 'TV-G', 'C13', 'Approved', 'C18', '16+',\n",
       "       '12', 'MA-17', 'TV-Y7-FV', 'AO', 'C16', 'P', 'TV-Y', 'M',\n",
       "       '(Banned)', '6+', 'PG-12', 'R-12', '12+', '6 +', '0+', 'GP', 'U',\n",
       "       'Universal', '7+', 'R-15', '15+', '16', 'AL', '6', '9'],\n",
       "      dtype=object)"
      ]
     },
     "execution_count": 138,
     "metadata": {},
     "output_type": "execute_result"
    }
   ],
   "source": [
    "mask = (data['Certificate'] == '18+') | (data['Certificate'] == '18 +') | (data['Certificate'] == 'R-18')\n",
    "data['Certificate'][mask] = 'C18'\n",
    "data['Certificate'].unique()"
   ]
  },
  {
   "cell_type": "code",
   "execution_count": 139,
   "id": "ac558fc1-cc1c-4bb1-99be-ff8206ae6a79",
   "metadata": {},
   "outputs": [
    {
     "name": "stderr",
     "output_type": "stream",
     "text": [
      "C:\\Users\\buisa\\AppData\\Local\\Temp\\ipykernel_14112\\2251482697.py:2: SettingWithCopyWarning: \n",
      "A value is trying to be set on a copy of a slice from a DataFrame\n",
      "\n",
      "See the caveats in the documentation: https://pandas.pydata.org/pandas-docs/stable/user_guide/indexing.html#returning-a-view-versus-a-copy\n",
      "  data['Certificate'][mask] = 'Unrated'\n"
     ]
    },
    {
     "data": {
      "text/plain": [
       "array(['PG-13', 'Unrated', 'PG', 'R', 'G', 'TV-14', 'TV-MA', 'TV-PG',\n",
       "       'NC-17', 'TV-Y7', 'TV-G', 'C13', 'Approved', 'C18', '16+', '12',\n",
       "       'MA-17', 'TV-Y7-FV', 'AO', 'C16', 'P', 'TV-Y', 'M', '(Banned)',\n",
       "       '6+', 'PG-12', 'R-12', '12+', '6 +', '0+', 'GP', 'U', 'Universal',\n",
       "       '7+', 'R-15', '15+', '16', 'AL', '6', '9'], dtype=object)"
      ]
     },
     "execution_count": 139,
     "metadata": {},
     "output_type": "execute_result"
    }
   ],
   "source": [
    "mask = (data['Certificate'] == 'Not Rated')\n",
    "data['Certificate'][mask] = 'Unrated'\n",
    "data['Certificate'].unique()"
   ]
  },
  {
   "cell_type": "code",
   "execution_count": 140,
   "id": "a5897895-48d7-42f3-b518-e5c66d8f2b8a",
   "metadata": {},
   "outputs": [
    {
     "name": "stderr",
     "output_type": "stream",
     "text": [
      "C:\\Users\\buisa\\AppData\\Local\\Temp\\ipykernel_14112\\2345543787.py:2: SettingWithCopyWarning: \n",
      "A value is trying to be set on a copy of a slice from a DataFrame\n",
      "\n",
      "See the caveats in the documentation: https://pandas.pydata.org/pandas-docs/stable/user_guide/indexing.html#returning-a-view-versus-a-copy\n",
      "  data['Certificate'][mask] = 'C16'\n"
     ]
    },
    {
     "data": {
      "text/plain": [
       "array(['PG-13', 'Unrated', 'PG', 'R', 'G', 'TV-14', 'TV-MA', 'TV-PG',\n",
       "       'NC-17', 'TV-Y7', 'TV-G', 'C13', 'Approved', 'C18', 'C16', '12',\n",
       "       'MA-17', 'TV-Y7-FV', 'AO', 'P', 'TV-Y', 'M', '(Banned)', '6+',\n",
       "       'PG-12', 'R-12', '12+', '6 +', '0+', 'GP', 'U', 'Universal', '7+',\n",
       "       'R-15', '15+', 'AL', '6', '9'], dtype=object)"
      ]
     },
     "execution_count": 140,
     "metadata": {},
     "output_type": "execute_result"
    }
   ],
   "source": [
    "mask = (data['Certificate'] == '16+') | (data['Certificate'] == '16')\n",
    "data['Certificate'][mask] = 'C16'\n",
    "data['Certificate'].unique()"
   ]
  },
  {
   "cell_type": "code",
   "execution_count": 141,
   "id": "18c6b619-e8ba-49f5-8baa-c6d865faa517",
   "metadata": {},
   "outputs": [
    {
     "name": "stderr",
     "output_type": "stream",
     "text": [
      "C:\\Users\\buisa\\AppData\\Local\\Temp\\ipykernel_14112\\1749731384.py:2: SettingWithCopyWarning: \n",
      "A value is trying to be set on a copy of a slice from a DataFrame\n",
      "\n",
      "See the caveats in the documentation: https://pandas.pydata.org/pandas-docs/stable/user_guide/indexing.html#returning-a-view-versus-a-copy\n",
      "  data['Certificate'][mask] = 'C15'\n"
     ]
    },
    {
     "data": {
      "text/plain": [
       "array(['PG-13', 'Unrated', 'PG', 'R', 'G', 'TV-14', 'TV-MA', 'TV-PG',\n",
       "       'NC-17', 'TV-Y7', 'TV-G', 'C13', 'Approved', 'C18', 'C16', '12',\n",
       "       'MA-17', 'TV-Y7-FV', 'AO', 'P', 'TV-Y', 'M', '(Banned)', '6+',\n",
       "       'PG-12', 'R-12', '12+', '6 +', '0+', 'GP', 'U', 'Universal', '7+',\n",
       "       'C15', 'AL', '6', '9'], dtype=object)"
      ]
     },
     "execution_count": 141,
     "metadata": {},
     "output_type": "execute_result"
    }
   ],
   "source": [
    "mask = (data['Certificate'] == 'R-15') | (data['Certificate'] == '15+')\n",
    "data['Certificate'][mask] = 'C15'\n",
    "data['Certificate'].unique()"
   ]
  },
  {
   "cell_type": "code",
   "execution_count": 142,
   "id": "1f293cd7-a341-42d6-88a2-c1f70c64bc99",
   "metadata": {},
   "outputs": [
    {
     "name": "stderr",
     "output_type": "stream",
     "text": [
      "C:\\Users\\buisa\\AppData\\Local\\Temp\\ipykernel_14112\\3693779912.py:2: SettingWithCopyWarning: \n",
      "A value is trying to be set on a copy of a slice from a DataFrame\n",
      "\n",
      "See the caveats in the documentation: https://pandas.pydata.org/pandas-docs/stable/user_guide/indexing.html#returning-a-view-versus-a-copy\n",
      "  data['Certificate'][mask] = 'C12'\n"
     ]
    },
    {
     "data": {
      "text/plain": [
       "array(['PG-13', 'Unrated', 'PG', 'R', 'G', 'TV-14', 'TV-MA', 'TV-PG',\n",
       "       'NC-17', 'TV-Y7', 'TV-G', 'C13', 'Approved', 'C18', 'C16', 'C12',\n",
       "       'MA-17', 'TV-Y7-FV', 'AO', 'P', 'TV-Y', 'M', '(Banned)', '6+',\n",
       "       'PG-12', '6 +', '0+', 'GP', 'U', 'Universal', '7+', 'C15', 'AL',\n",
       "       '6', '9'], dtype=object)"
      ]
     },
     "execution_count": 142,
     "metadata": {},
     "output_type": "execute_result"
    }
   ],
   "source": [
    "mask = (data['Certificate'] == 'R-12') | (data['Certificate'] == '12+') | (data['Certificate'] == '12')\n",
    "data['Certificate'][mask] = 'C12'\n",
    "data['Certificate'].unique()"
   ]
  },
  {
   "cell_type": "code",
   "execution_count": 143,
   "id": "bad411ef-9f06-4c6d-b9ad-0b7713e3b939",
   "metadata": {},
   "outputs": [
    {
     "name": "stderr",
     "output_type": "stream",
     "text": [
      "C:\\Users\\buisa\\AppData\\Local\\Temp\\ipykernel_14112\\510099074.py:2: SettingWithCopyWarning: \n",
      "A value is trying to be set on a copy of a slice from a DataFrame\n",
      "\n",
      "See the caveats in the documentation: https://pandas.pydata.org/pandas-docs/stable/user_guide/indexing.html#returning-a-view-versus-a-copy\n",
      "  data['Certificate'][mask] = 'C6'\n"
     ]
    },
    {
     "data": {
      "text/plain": [
       "array(['PG-13', 'Unrated', 'PG', 'R', 'G', 'TV-14', 'TV-MA', 'TV-PG',\n",
       "       'NC-17', 'TV-Y7', 'TV-G', 'C13', 'Approved', 'C18', 'C16', 'C12',\n",
       "       'MA-17', 'TV-Y7-FV', 'AO', 'P', 'TV-Y', 'M', '(Banned)', 'C6',\n",
       "       'PG-12', '0+', 'GP', 'U', 'Universal', '7+', 'C15', 'AL', '9'],\n",
       "      dtype=object)"
      ]
     },
     "execution_count": 143,
     "metadata": {},
     "output_type": "execute_result"
    }
   ],
   "source": [
    "mask = (data['Certificate'] == '6+') | (data['Certificate'] == '6 +') | (data['Certificate'] == '6')\n",
    "data['Certificate'][mask] = 'C6'\n",
    "data['Certificate'].unique()"
   ]
  },
  {
   "cell_type": "code",
   "execution_count": 144,
   "id": "0c7ec4a4-8cdf-4410-869c-5371aed9ad2c",
   "metadata": {},
   "outputs": [
    {
     "name": "stderr",
     "output_type": "stream",
     "text": [
      "C:\\Users\\buisa\\AppData\\Local\\Temp\\ipykernel_14112\\2914913013.py:2: SettingWithCopyWarning: \n",
      "A value is trying to be set on a copy of a slice from a DataFrame\n",
      "\n",
      "See the caveats in the documentation: https://pandas.pydata.org/pandas-docs/stable/user_guide/indexing.html#returning-a-view-versus-a-copy\n",
      "  data['Certificate'][mask] = 'PG'\n"
     ]
    },
    {
     "data": {
      "text/plain": [
       "array(['PG-13', 'Unrated', 'PG', 'R', 'G', 'TV-14', 'TV-MA', 'TV-PG',\n",
       "       'NC-17', 'TV-Y7', 'TV-G', 'C13', 'Approved', 'C18', 'C16', 'C12',\n",
       "       'MA-17', 'TV-Y7-FV', 'AO', 'P', 'TV-Y', 'M', '(Banned)', 'C6',\n",
       "       'PG-12', 'GP', 'U', 'Universal', '7+', 'C15', 'AL', '9'],\n",
       "      dtype=object)"
      ]
     },
     "execution_count": 144,
     "metadata": {},
     "output_type": "execute_result"
    }
   ],
   "source": [
    "mask = (data['Certificate'] == '0+')\n",
    "data['Certificate'][mask] = 'PG'\n",
    "data['Certificate'].unique()"
   ]
  },
  {
   "cell_type": "code",
   "execution_count": 145,
   "id": "30c1d2ba-053f-4392-a385-f50979865df8",
   "metadata": {},
   "outputs": [
    {
     "name": "stderr",
     "output_type": "stream",
     "text": [
      "C:\\Users\\buisa\\AppData\\Local\\Temp\\ipykernel_14112\\1251197092.py:2: SettingWithCopyWarning: \n",
      "A value is trying to be set on a copy of a slice from a DataFrame\n",
      "\n",
      "See the caveats in the documentation: https://pandas.pydata.org/pandas-docs/stable/user_guide/indexing.html#returning-a-view-versus-a-copy\n",
      "  data['Certificate'][mask] = 'C7'\n"
     ]
    },
    {
     "data": {
      "text/plain": [
       "array(['PG-13', 'Unrated', 'PG', 'R', 'G', 'TV-14', 'TV-MA', 'TV-PG',\n",
       "       'NC-17', 'TV-Y7', 'TV-G', 'C13', 'Approved', 'C18', 'C16', 'C12',\n",
       "       'MA-17', 'TV-Y7-FV', 'AO', 'P', 'TV-Y', 'M', '(Banned)', 'C6',\n",
       "       'PG-12', 'GP', 'U', 'Universal', 'C7', 'C15', 'AL', '9'],\n",
       "      dtype=object)"
      ]
     },
     "execution_count": 145,
     "metadata": {},
     "output_type": "execute_result"
    }
   ],
   "source": [
    "mask = (data['Certificate'] == 'R-12') | (data['Certificate'] == '7+') | (data['Certificate'] == '12')\n",
    "data['Certificate'][mask] = 'C7'\n",
    "data['Certificate'].unique()"
   ]
  },
  {
   "cell_type": "code",
   "execution_count": 146,
   "id": "04ddbfb8-e1d1-4b17-a76b-803abf7df075",
   "metadata": {},
   "outputs": [
    {
     "name": "stderr",
     "output_type": "stream",
     "text": [
      "C:\\Users\\buisa\\AppData\\Local\\Temp\\ipykernel_14112\\712986830.py:2: SettingWithCopyWarning: \n",
      "A value is trying to be set on a copy of a slice from a DataFrame\n",
      "\n",
      "See the caveats in the documentation: https://pandas.pydata.org/pandas-docs/stable/user_guide/indexing.html#returning-a-view-versus-a-copy\n",
      "  data['Certificate'][mask] = 'C9'\n"
     ]
    },
    {
     "data": {
      "text/plain": [
       "array(['PG-13', 'Unrated', 'PG', 'R', 'G', 'TV-14', 'TV-MA', 'TV-PG',\n",
       "       'NC-17', 'TV-Y7', 'TV-G', 'C13', 'Approved', 'C18', 'C16', 'C12',\n",
       "       'MA-17', 'TV-Y7-FV', 'AO', 'P', 'TV-Y', 'M', '(Banned)', 'C6',\n",
       "       'PG-12', 'GP', 'U', 'Universal', 'C7', 'C15', 'AL', 'C9'],\n",
       "      dtype=object)"
      ]
     },
     "execution_count": 146,
     "metadata": {},
     "output_type": "execute_result"
    }
   ],
   "source": [
    "mask = (data['Certificate'] == 'R-12') | (data['Certificate'] == '12+') | (data['Certificate'] == '9')\n",
    "data['Certificate'][mask] = 'C9'\n",
    "data['Certificate'].unique()"
   ]
  },
  {
   "cell_type": "code",
   "execution_count": 147,
   "id": "cd83c458-cff7-49a8-9d50-53cedc28d328",
   "metadata": {},
   "outputs": [
    {
     "name": "stderr",
     "output_type": "stream",
     "text": [
      "C:\\Users\\buisa\\AppData\\Local\\Temp\\ipykernel_14112\\163063630.py:2: SettingWithCopyWarning: \n",
      "A value is trying to be set on a copy of a slice from a DataFrame\n",
      "\n",
      "See the caveats in the documentation: https://pandas.pydata.org/pandas-docs/stable/user_guide/indexing.html#returning-a-view-versus-a-copy\n",
      "  data['Certificate'][mask] = 'U'\n"
     ]
    },
    {
     "data": {
      "text/plain": [
       "array(['PG-13', 'Unrated', 'PG', 'R', 'G', 'TV-14', 'TV-MA', 'TV-PG',\n",
       "       'NC-17', 'TV-Y7', 'TV-G', 'C13', 'Approved', 'C18', 'C16', 'C12',\n",
       "       'MA-17', 'TV-Y7-FV', 'AO', 'P', 'TV-Y', 'M', '(Banned)', 'C6',\n",
       "       'PG-12', 'GP', 'U', 'C7', 'C15', 'AL', 'C9'], dtype=object)"
      ]
     },
     "execution_count": 147,
     "metadata": {},
     "output_type": "execute_result"
    }
   ],
   "source": [
    "mask = (data['Certificate'] == 'R-12') | (data['Certificate'] == '12+') | (data['Certificate'] == 'Universal')\n",
    "data['Certificate'][mask] = 'U'\n",
    "data['Certificate'].unique()"
   ]
  },
  {
   "cell_type": "code",
   "execution_count": 148,
   "id": "48be7f02-f7ce-4abd-abde-bf1459c4a99c",
   "metadata": {},
   "outputs": [
    {
     "name": "stderr",
     "output_type": "stream",
     "text": [
      "C:\\Users\\buisa\\AppData\\Local\\Temp\\ipykernel_14112\\3491999392.py:2: SettingWithCopyWarning: \n",
      "A value is trying to be set on a copy of a slice from a DataFrame\n",
      "\n",
      "See the caveats in the documentation: https://pandas.pydata.org/pandas-docs/stable/user_guide/indexing.html#returning-a-view-versus-a-copy\n",
      "  data['Certificate'][mask] = 'PG'\n"
     ]
    },
    {
     "data": {
      "text/plain": [
       "array(['PG-13', 'Unrated', 'PG', 'R', 'G', 'TV-14', 'TV-MA', 'TV-PG',\n",
       "       'NC-17', 'TV-Y7', 'TV-G', 'C13', 'Approved', 'C18', 'C16', 'C12',\n",
       "       'MA-17', 'TV-Y7-FV', 'AO', 'TV-Y', 'M', '(Banned)', 'C6', 'PG-12',\n",
       "       'GP', 'U', 'C7', 'C15', 'AL', 'C9'], dtype=object)"
      ]
     },
     "execution_count": 148,
     "metadata": {},
     "output_type": "execute_result"
    }
   ],
   "source": [
    "mask = (data['Certificate'] == 'R-12') | (data['Certificate'] == '12+') | (data['Certificate'] == 'P')\n",
    "data['Certificate'][mask] = 'PG'\n",
    "data['Certificate'].unique()"
   ]
  },
  {
   "cell_type": "code",
   "execution_count": 149,
   "id": "e33b5d37-0657-44d2-861b-f97f415ba631",
   "metadata": {},
   "outputs": [
    {
     "data": {
      "text/html": [
       "<div>\n",
       "<style scoped>\n",
       "    .dataframe tbody tr th:only-of-type {\n",
       "        vertical-align: middle;\n",
       "    }\n",
       "\n",
       "    .dataframe tbody tr th {\n",
       "        vertical-align: top;\n",
       "    }\n",
       "\n",
       "    .dataframe thead th {\n",
       "        text-align: right;\n",
       "    }\n",
       "</style>\n",
       "<table border=\"1\" class=\"dataframe\">\n",
       "  <thead>\n",
       "    <tr style=\"text-align: right;\">\n",
       "      <th></th>\n",
       "      <th>Unnamed: 0</th>\n",
       "      <th>Name</th>\n",
       "      <th>Certificate</th>\n",
       "      <th>Poster</th>\n",
       "      <th>Genre</th>\n",
       "      <th>Director</th>\n",
       "      <th>Writer</th>\n",
       "      <th>Stars</th>\n",
       "      <th>Storyline</th>\n",
       "      <th>Rating</th>\n",
       "      <th>Rating Count</th>\n",
       "    </tr>\n",
       "  </thead>\n",
       "  <tbody>\n",
       "    <tr>\n",
       "      <th>0</th>\n",
       "      <td>0</td>\n",
       "      <td>The Dark Knight</td>\n",
       "      <td>PG-13</td>\n",
       "      <td>https://m.media-amazon.com/images/M/MV5BMTMxNT...</td>\n",
       "      <td>Action, Crime, Drama</td>\n",
       "      <td>Christopher Nolan</td>\n",
       "      <td>Jonathan Nolan, Christopher Nolan, David S. Goyer</td>\n",
       "      <td>Christian Bale, Heath Ledger, Aaron Eckhart, M...</td>\n",
       "      <td>When the menace known as the Joker wreaks havo...</td>\n",
       "      <td>9.0</td>\n",
       "      <td>2800000.0</td>\n",
       "    </tr>\n",
       "  </tbody>\n",
       "</table>\n",
       "</div>"
      ],
      "text/plain": [
       "   Unnamed: 0             Name Certificate  \\\n",
       "0           0  The Dark Knight       PG-13   \n",
       "\n",
       "                                              Poster                 Genre  \\\n",
       "0  https://m.media-amazon.com/images/M/MV5BMTMxNT...  Action, Crime, Drama   \n",
       "\n",
       "            Director                                             Writer  \\\n",
       "0  Christopher Nolan  Jonathan Nolan, Christopher Nolan, David S. Goyer   \n",
       "\n",
       "                                               Stars  \\\n",
       "0  Christian Bale, Heath Ledger, Aaron Eckhart, M...   \n",
       "\n",
       "                                           Storyline  Rating  Rating Count  \n",
       "0  When the menace known as the Joker wreaks havo...     9.0     2800000.0  "
      ]
     },
     "execution_count": 149,
     "metadata": {},
     "output_type": "execute_result"
    }
   ],
   "source": [
    "data.head(1)"
   ]
  },
  {
   "cell_type": "code",
   "execution_count": 150,
   "id": "23a2c6d6-9460-4475-88dd-5cd070c4f139",
   "metadata": {},
   "outputs": [
    {
     "data": {
      "text/plain": [
       "(12851,)"
      ]
     },
     "execution_count": 150,
     "metadata": {},
     "output_type": "execute_result"
    }
   ],
   "source": [
    "data['Director'].unique().shape"
   ]
  },
  {
   "cell_type": "code",
   "execution_count": 151,
   "id": "5201af05-707f-4670-af4d-0ce9c0ae935c",
   "metadata": {},
   "outputs": [],
   "source": [
    "data = data[data.columns[~data.columns.isin(['Unnamed: 0'])]]"
   ]
  },
  {
   "cell_type": "code",
   "execution_count": 152,
   "id": "e56a9b07-754e-4b1a-9df1-0c5b659756e9",
   "metadata": {},
   "outputs": [],
   "source": [
    "data.to_csv(file_name, index=False)"
   ]
  },
  {
   "cell_type": "code",
   "execution_count": null,
   "id": "967f6b78-ccf5-4e60-934e-4cac66b02a7f",
   "metadata": {},
   "outputs": [],
   "source": []
  },
  {
   "cell_type": "code",
   "execution_count": null,
   "id": "d8334482-68bb-43af-9804-26c062263c91",
   "metadata": {},
   "outputs": [],
   "source": []
  }
 ],
 "metadata": {
  "kernelspec": {
   "display_name": "Python 3 (ipykernel)",
   "language": "python",
   "name": "python3"
  },
  "language_info": {
   "codemirror_mode": {
    "name": "ipython",
    "version": 3
   },
   "file_extension": ".py",
   "mimetype": "text/x-python",
   "name": "python",
   "nbconvert_exporter": "python",
   "pygments_lexer": "ipython3",
   "version": "3.10.9"
  }
 },
 "nbformat": 4,
 "nbformat_minor": 5
}
