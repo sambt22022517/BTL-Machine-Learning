{
 "cells": [
  {
   "cell_type": "code",
   "execution_count": 1,
   "id": "9b58cbdb-e181-4e61-ba18-e76f0c40165b",
   "metadata": {},
   "outputs": [],
   "source": [
    "import pandas as pd\n",
    "import numpy as np"
   ]
  },
  {
   "cell_type": "code",
   "execution_count": 2,
   "id": "aee3f841-52d7-4975-bc55-004ef6793fea",
   "metadata": {},
   "outputs": [
    {
     "data": {
      "text/html": [
       "<div>\n",
       "<style scoped>\n",
       "    .dataframe tbody tr th:only-of-type {\n",
       "        vertical-align: middle;\n",
       "    }\n",
       "\n",
       "    .dataframe tbody tr th {\n",
       "        vertical-align: top;\n",
       "    }\n",
       "\n",
       "    .dataframe thead th {\n",
       "        text-align: right;\n",
       "    }\n",
       "</style>\n",
       "<table border=\"1\" class=\"dataframe\">\n",
       "  <thead>\n",
       "    <tr style=\"text-align: right;\">\n",
       "      <th></th>\n",
       "      <th>Name</th>\n",
       "      <th>Certificate</th>\n",
       "      <th>Poster</th>\n",
       "      <th>Genre</th>\n",
       "      <th>Director</th>\n",
       "      <th>Writer</th>\n",
       "      <th>Stars</th>\n",
       "      <th>Storyline</th>\n",
       "      <th>Rating</th>\n",
       "      <th>Rating Count</th>\n",
       "    </tr>\n",
       "  </thead>\n",
       "  <tbody>\n",
       "    <tr>\n",
       "      <th>0</th>\n",
       "      <td>The Dark Knight</td>\n",
       "      <td>PG-13</td>\n",
       "      <td>https://m.media-amazon.com/images/M/MV5BMTMxNT...</td>\n",
       "      <td>Action, Crime, Drama</td>\n",
       "      <td>Christopher Nolan</td>\n",
       "      <td>Jonathan Nolan, Christopher Nolan, David S. Goyer</td>\n",
       "      <td>Christian Bale, Heath Ledger, Aaron Eckhart, M...</td>\n",
       "      <td>When the menace known as the Joker wreaks havo...</td>\n",
       "      <td>9.0</td>\n",
       "      <td>2800000.0</td>\n",
       "    </tr>\n",
       "    <tr>\n",
       "      <th>1</th>\n",
       "      <td>The Lord of the Rings: The Return of the King</td>\n",
       "      <td>PG-13</td>\n",
       "      <td>https://m.media-amazon.com/images/M/MV5BNzA5ZD...</td>\n",
       "      <td>Action, Adventure, Drama</td>\n",
       "      <td>Peter Jackson</td>\n",
       "      <td>J.R.R. Tolkien, Fran Walsh, Philippa Boyens</td>\n",
       "      <td>Elijah Wood, Viggo Mortensen, Ian McKellen, Or...</td>\n",
       "      <td>Gandalf and Aragorn lead the World of Men agai...</td>\n",
       "      <td>9.0</td>\n",
       "      <td>1900000.0</td>\n",
       "    </tr>\n",
       "    <tr>\n",
       "      <th>2</th>\n",
       "      <td>Dr. Babasaheb Ambedkar</td>\n",
       "      <td>Unrated</td>\n",
       "      <td>https://m.media-amazon.com/images/M/MV5BNGNjZD...</td>\n",
       "      <td>Biography, History</td>\n",
       "      <td>Jabbar Patel</td>\n",
       "      <td>Daya Pawar, Arun Sadhu, Sooni Taraporevala</td>\n",
       "      <td>Mammootty, Sonali Kulkarni, Mohan Gokhale, Mri...</td>\n",
       "      <td>Biopic of B. R. Ambedkar, known mainly for his...</td>\n",
       "      <td>8.9</td>\n",
       "      <td>2700.0</td>\n",
       "    </tr>\n",
       "    <tr>\n",
       "      <th>3</th>\n",
       "      <td>The Lord of the Rings: The Fellowship of the Ring</td>\n",
       "      <td>PG-13</td>\n",
       "      <td>https://m.media-amazon.com/images/M/MV5BN2EyZj...</td>\n",
       "      <td>Action, Adventure, Drama</td>\n",
       "      <td>Peter Jackson</td>\n",
       "      <td>J.R.R. Tolkien, Fran Walsh, Philippa Boyens</td>\n",
       "      <td>Elijah Wood, Ian McKellen, Orlando Bloom, Sean...</td>\n",
       "      <td>A meek Hobbit from the Shire and eight compani...</td>\n",
       "      <td>8.8</td>\n",
       "      <td>2000000.0</td>\n",
       "    </tr>\n",
       "    <tr>\n",
       "      <th>4</th>\n",
       "      <td>The Lord of the Rings: The Two Towers</td>\n",
       "      <td>PG-13</td>\n",
       "      <td>https://m.media-amazon.com/images/M/MV5BZGMxZT...</td>\n",
       "      <td>Action, Adventure, Drama</td>\n",
       "      <td>Peter Jackson</td>\n",
       "      <td>J.R.R. Tolkien, Fran Walsh, Philippa Boyens</td>\n",
       "      <td>Elijah Wood, Ian McKellen, Viggo Mortensen, Or...</td>\n",
       "      <td>While Frodo and Sam edge closer to Mordor with...</td>\n",
       "      <td>8.8</td>\n",
       "      <td>1700000.0</td>\n",
       "    </tr>\n",
       "  </tbody>\n",
       "</table>\n",
       "</div>"
      ],
      "text/plain": [
       "                                                Name Certificate   \n",
       "0                                    The Dark Knight       PG-13  \\\n",
       "1      The Lord of the Rings: The Return of the King       PG-13   \n",
       "2                             Dr. Babasaheb Ambedkar     Unrated   \n",
       "3  The Lord of the Rings: The Fellowship of the Ring       PG-13   \n",
       "4              The Lord of the Rings: The Two Towers       PG-13   \n",
       "\n",
       "                                              Poster   \n",
       "0  https://m.media-amazon.com/images/M/MV5BMTMxNT...  \\\n",
       "1  https://m.media-amazon.com/images/M/MV5BNzA5ZD...   \n",
       "2  https://m.media-amazon.com/images/M/MV5BNGNjZD...   \n",
       "3  https://m.media-amazon.com/images/M/MV5BN2EyZj...   \n",
       "4  https://m.media-amazon.com/images/M/MV5BZGMxZT...   \n",
       "\n",
       "                      Genre           Director   \n",
       "0      Action, Crime, Drama  Christopher Nolan  \\\n",
       "1  Action, Adventure, Drama      Peter Jackson   \n",
       "2        Biography, History       Jabbar Patel   \n",
       "3  Action, Adventure, Drama      Peter Jackson   \n",
       "4  Action, Adventure, Drama      Peter Jackson   \n",
       "\n",
       "                                              Writer   \n",
       "0  Jonathan Nolan, Christopher Nolan, David S. Goyer  \\\n",
       "1        J.R.R. Tolkien, Fran Walsh, Philippa Boyens   \n",
       "2         Daya Pawar, Arun Sadhu, Sooni Taraporevala   \n",
       "3        J.R.R. Tolkien, Fran Walsh, Philippa Boyens   \n",
       "4        J.R.R. Tolkien, Fran Walsh, Philippa Boyens   \n",
       "\n",
       "                                               Stars   \n",
       "0  Christian Bale, Heath Ledger, Aaron Eckhart, M...  \\\n",
       "1  Elijah Wood, Viggo Mortensen, Ian McKellen, Or...   \n",
       "2  Mammootty, Sonali Kulkarni, Mohan Gokhale, Mri...   \n",
       "3  Elijah Wood, Ian McKellen, Orlando Bloom, Sean...   \n",
       "4  Elijah Wood, Ian McKellen, Viggo Mortensen, Or...   \n",
       "\n",
       "                                           Storyline  Rating  Rating Count  \n",
       "0  When the menace known as the Joker wreaks havo...     9.0     2800000.0  \n",
       "1  Gandalf and Aragorn lead the World of Men agai...     9.0     1900000.0  \n",
       "2  Biopic of B. R. Ambedkar, known mainly for his...     8.9        2700.0  \n",
       "3  A meek Hobbit from the Shire and eight compani...     8.8     2000000.0  \n",
       "4  While Frodo and Sam edge closer to Mordor with...     8.8     1700000.0  "
      ]
     },
     "execution_count": 2,
     "metadata": {},
     "output_type": "execute_result"
    }
   ],
   "source": [
    "file_name = 'Cleaned_Data.csv'\n",
    "data = pd.read_csv(file_name)\n",
    "data.head()"
   ]
  },
  {
   "cell_type": "code",
   "execution_count": 3,
   "id": "862b6709-7784-4eeb-8a10-5e8428e3e555",
   "metadata": {},
   "outputs": [
    {
     "data": {
      "text/plain": [
       "23003"
      ]
     },
     "execution_count": 3,
     "metadata": {},
     "output_type": "execute_result"
    }
   ],
   "source": [
    "data['Name'].unique().shape[0]"
   ]
  },
  {
   "cell_type": "code",
   "execution_count": 4,
   "id": "7350a2bc-1fd3-4e30-b9cf-e03149f7afe0",
   "metadata": {},
   "outputs": [
    {
     "data": {
      "text/plain": [
       "23778"
      ]
     },
     "execution_count": 4,
     "metadata": {},
     "output_type": "execute_result"
    }
   ],
   "source": [
    "data.shape[0]"
   ]
  },
  {
   "cell_type": "code",
   "execution_count": 5,
   "id": "84f7999d-1509-422d-9e9d-58d463d78d26",
   "metadata": {},
   "outputs": [
    {
     "data": {
      "text/plain": [
       "array(['PG-13', 'Unrated', 'PG', 'R', 'G', 'TV-14', 'TV-MA', 'TV-PG',\n",
       "       'NC-17', 'TV-Y7', 'TV-G', 'C13', 'Approved', 'C18', 'C16', 'C12',\n",
       "       'MA-17', 'TV-Y7-FV', 'AO', 'TV-Y', 'M', '(Banned)', 'C6', 'PG-12',\n",
       "       'GP', 'U', 'C7', 'C15', 'AL', 'C9'], dtype=object)"
      ]
     },
     "execution_count": 5,
     "metadata": {},
     "output_type": "execute_result"
    }
   ],
   "source": [
    "data['Certificate'].unique()"
   ]
  },
  {
   "cell_type": "code",
   "execution_count": 6,
   "id": "38602689-6484-4abf-8762-bc134eb92667",
   "metadata": {},
   "outputs": [
    {
     "name": "stderr",
     "output_type": "stream",
     "text": [
      "C:\\Users\\kingk\\AppData\\Local\\Temp\\ipykernel_15212\\1775515141.py:1: SettingWithCopyWarning: \n",
      "A value is trying to be set on a copy of a slice from a DataFrame\n",
      "\n",
      "See the caveats in the documentation: https://pandas.pydata.org/pandas-docs/stable/user_guide/indexing.html#returning-a-view-versus-a-copy\n",
      "  data['Certificate'][data['Certificate'].str.contains('m')] = 'Unrated'\n"
     ]
    },
    {
     "data": {
      "text/plain": [
       "array(['PG-13', 'Unrated', 'PG', 'R', 'G', 'TV-14', 'TV-MA', 'TV-PG',\n",
       "       'NC-17', 'TV-Y7', 'TV-G', 'C13', 'Approved', 'C18', 'C16', 'C12',\n",
       "       'MA-17', 'TV-Y7-FV', 'AO', 'TV-Y', 'M', '(Banned)', 'C6', 'PG-12',\n",
       "       'GP', 'U', 'C7', 'C15', 'AL', 'C9'], dtype=object)"
      ]
     },
     "execution_count": 6,
     "metadata": {},
     "output_type": "execute_result"
    }
   ],
   "source": [
    "data['Certificate'][data['Certificate'].str.contains('m')] = 'Unrated'\n",
    "data['Certificate'].unique()"
   ]
  },
  {
   "cell_type": "code",
   "execution_count": 7,
   "id": "f42eded9-06e5-4206-9d2f-fb980ce166f2",
   "metadata": {},
   "outputs": [
    {
     "name": "stderr",
     "output_type": "stream",
     "text": [
      "C:\\Users\\kingk\\AppData\\Local\\Temp\\ipykernel_15212\\4136217094.py:1: SettingWithCopyWarning: \n",
      "A value is trying to be set on a copy of a slice from a DataFrame\n",
      "\n",
      "See the caveats in the documentation: https://pandas.pydata.org/pandas-docs/stable/user_guide/indexing.html#returning-a-view-versus-a-copy\n",
      "  data['Certificate'][(data['Certificate'] == '13+')] = 'C13'\n"
     ]
    },
    {
     "data": {
      "text/plain": [
       "array(['PG-13', 'Unrated', 'PG', 'R', 'G', 'TV-14', 'TV-MA', 'TV-PG',\n",
       "       'NC-17', 'TV-Y7', 'TV-G', 'C13', 'Approved', 'C18', 'C16', 'C12',\n",
       "       'MA-17', 'TV-Y7-FV', 'AO', 'TV-Y', 'M', '(Banned)', 'C6', 'PG-12',\n",
       "       'GP', 'U', 'C7', 'C15', 'AL', 'C9'], dtype=object)"
      ]
     },
     "execution_count": 7,
     "metadata": {},
     "output_type": "execute_result"
    }
   ],
   "source": [
    "data['Certificate'][(data['Certificate'] == '13+')] = 'C13'\n",
    "data['Certificate'].unique()"
   ]
  },
  {
   "cell_type": "code",
   "execution_count": 8,
   "id": "5878b9fa-c2f0-4968-9c09-74ed9665ea3c",
   "metadata": {},
   "outputs": [
    {
     "name": "stderr",
     "output_type": "stream",
     "text": [
      "C:\\Users\\kingk\\AppData\\Local\\Temp\\ipykernel_15212\\1471521702.py:2: SettingWithCopyWarning: \n",
      "A value is trying to be set on a copy of a slice from a DataFrame\n",
      "\n",
      "See the caveats in the documentation: https://pandas.pydata.org/pandas-docs/stable/user_guide/indexing.html#returning-a-view-versus-a-copy\n",
      "  data['Certificate'][mask] = 'C18'\n"
     ]
    },
    {
     "data": {
      "text/plain": [
       "array(['PG-13', 'Unrated', 'PG', 'R', 'G', 'TV-14', 'TV-MA', 'TV-PG',\n",
       "       'NC-17', 'TV-Y7', 'TV-G', 'C13', 'Approved', 'C18', 'C16', 'C12',\n",
       "       'MA-17', 'TV-Y7-FV', 'AO', 'TV-Y', 'M', '(Banned)', 'C6', 'PG-12',\n",
       "       'GP', 'U', 'C7', 'C15', 'AL', 'C9'], dtype=object)"
      ]
     },
     "execution_count": 8,
     "metadata": {},
     "output_type": "execute_result"
    }
   ],
   "source": [
    "mask = (data['Certificate'] == '18+') | (data['Certificate'] == '18 +') | (data['Certificate'] == 'R-18')\n",
    "data['Certificate'][mask] = 'C18'\n",
    "data['Certificate'].unique()"
   ]
  },
  {
   "cell_type": "code",
   "execution_count": 9,
   "id": "ac558fc1-cc1c-4bb1-99be-ff8206ae6a79",
   "metadata": {},
   "outputs": [
    {
     "name": "stderr",
     "output_type": "stream",
     "text": [
      "C:\\Users\\kingk\\AppData\\Local\\Temp\\ipykernel_15212\\2251482697.py:2: SettingWithCopyWarning: \n",
      "A value is trying to be set on a copy of a slice from a DataFrame\n",
      "\n",
      "See the caveats in the documentation: https://pandas.pydata.org/pandas-docs/stable/user_guide/indexing.html#returning-a-view-versus-a-copy\n",
      "  data['Certificate'][mask] = 'Unrated'\n"
     ]
    },
    {
     "data": {
      "text/plain": [
       "array(['PG-13', 'Unrated', 'PG', 'R', 'G', 'TV-14', 'TV-MA', 'TV-PG',\n",
       "       'NC-17', 'TV-Y7', 'TV-G', 'C13', 'Approved', 'C18', 'C16', 'C12',\n",
       "       'MA-17', 'TV-Y7-FV', 'AO', 'TV-Y', 'M', '(Banned)', 'C6', 'PG-12',\n",
       "       'GP', 'U', 'C7', 'C15', 'AL', 'C9'], dtype=object)"
      ]
     },
     "execution_count": 9,
     "metadata": {},
     "output_type": "execute_result"
    }
   ],
   "source": [
    "mask = (data['Certificate'] == 'Not Rated')\n",
    "data['Certificate'][mask] = 'Unrated'\n",
    "data['Certificate'].unique()"
   ]
  },
  {
   "cell_type": "code",
   "execution_count": 10,
   "id": "a5897895-48d7-42f3-b518-e5c66d8f2b8a",
   "metadata": {},
   "outputs": [
    {
     "name": "stderr",
     "output_type": "stream",
     "text": [
      "C:\\Users\\kingk\\AppData\\Local\\Temp\\ipykernel_15212\\2345543787.py:2: SettingWithCopyWarning: \n",
      "A value is trying to be set on a copy of a slice from a DataFrame\n",
      "\n",
      "See the caveats in the documentation: https://pandas.pydata.org/pandas-docs/stable/user_guide/indexing.html#returning-a-view-versus-a-copy\n",
      "  data['Certificate'][mask] = 'C16'\n"
     ]
    },
    {
     "data": {
      "text/plain": [
       "array(['PG-13', 'Unrated', 'PG', 'R', 'G', 'TV-14', 'TV-MA', 'TV-PG',\n",
       "       'NC-17', 'TV-Y7', 'TV-G', 'C13', 'Approved', 'C18', 'C16', 'C12',\n",
       "       'MA-17', 'TV-Y7-FV', 'AO', 'TV-Y', 'M', '(Banned)', 'C6', 'PG-12',\n",
       "       'GP', 'U', 'C7', 'C15', 'AL', 'C9'], dtype=object)"
      ]
     },
     "execution_count": 10,
     "metadata": {},
     "output_type": "execute_result"
    }
   ],
   "source": [
    "mask = (data['Certificate'] == '16+') | (data['Certificate'] == '16')\n",
    "data['Certificate'][mask] = 'C16'\n",
    "data['Certificate'].unique()"
   ]
  },
  {
   "cell_type": "code",
   "execution_count": 11,
   "id": "18c6b619-e8ba-49f5-8baa-c6d865faa517",
   "metadata": {},
   "outputs": [
    {
     "name": "stderr",
     "output_type": "stream",
     "text": [
      "C:\\Users\\kingk\\AppData\\Local\\Temp\\ipykernel_15212\\1749731384.py:2: SettingWithCopyWarning: \n",
      "A value is trying to be set on a copy of a slice from a DataFrame\n",
      "\n",
      "See the caveats in the documentation: https://pandas.pydata.org/pandas-docs/stable/user_guide/indexing.html#returning-a-view-versus-a-copy\n",
      "  data['Certificate'][mask] = 'C15'\n"
     ]
    },
    {
     "data": {
      "text/plain": [
       "array(['PG-13', 'Unrated', 'PG', 'R', 'G', 'TV-14', 'TV-MA', 'TV-PG',\n",
       "       'NC-17', 'TV-Y7', 'TV-G', 'C13', 'Approved', 'C18', 'C16', 'C12',\n",
       "       'MA-17', 'TV-Y7-FV', 'AO', 'TV-Y', 'M', '(Banned)', 'C6', 'PG-12',\n",
       "       'GP', 'U', 'C7', 'C15', 'AL', 'C9'], dtype=object)"
      ]
     },
     "execution_count": 11,
     "metadata": {},
     "output_type": "execute_result"
    }
   ],
   "source": [
    "mask = (data['Certificate'] == 'R-15') | (data['Certificate'] == '15+')\n",
    "data['Certificate'][mask] = 'C15'\n",
    "data['Certificate'].unique()"
   ]
  },
  {
   "cell_type": "code",
   "execution_count": 12,
   "id": "1f293cd7-a341-42d6-88a2-c1f70c64bc99",
   "metadata": {},
   "outputs": [
    {
     "name": "stderr",
     "output_type": "stream",
     "text": [
      "C:\\Users\\kingk\\AppData\\Local\\Temp\\ipykernel_15212\\3693779912.py:2: SettingWithCopyWarning: \n",
      "A value is trying to be set on a copy of a slice from a DataFrame\n",
      "\n",
      "See the caveats in the documentation: https://pandas.pydata.org/pandas-docs/stable/user_guide/indexing.html#returning-a-view-versus-a-copy\n",
      "  data['Certificate'][mask] = 'C12'\n"
     ]
    },
    {
     "data": {
      "text/plain": [
       "array(['PG-13', 'Unrated', 'PG', 'R', 'G', 'TV-14', 'TV-MA', 'TV-PG',\n",
       "       'NC-17', 'TV-Y7', 'TV-G', 'C13', 'Approved', 'C18', 'C16', 'C12',\n",
       "       'MA-17', 'TV-Y7-FV', 'AO', 'TV-Y', 'M', '(Banned)', 'C6', 'PG-12',\n",
       "       'GP', 'U', 'C7', 'C15', 'AL', 'C9'], dtype=object)"
      ]
     },
     "execution_count": 12,
     "metadata": {},
     "output_type": "execute_result"
    }
   ],
   "source": [
    "mask = (data['Certificate'] == 'R-12') | (data['Certificate'] == '12+') | (data['Certificate'] == '12')\n",
    "data['Certificate'][mask] = 'C12'\n",
    "data['Certificate'].unique()"
   ]
  },
  {
   "cell_type": "code",
   "execution_count": 13,
   "id": "bad411ef-9f06-4c6d-b9ad-0b7713e3b939",
   "metadata": {},
   "outputs": [
    {
     "name": "stderr",
     "output_type": "stream",
     "text": [
      "C:\\Users\\kingk\\AppData\\Local\\Temp\\ipykernel_15212\\510099074.py:2: SettingWithCopyWarning: \n",
      "A value is trying to be set on a copy of a slice from a DataFrame\n",
      "\n",
      "See the caveats in the documentation: https://pandas.pydata.org/pandas-docs/stable/user_guide/indexing.html#returning-a-view-versus-a-copy\n",
      "  data['Certificate'][mask] = 'C6'\n"
     ]
    },
    {
     "data": {
      "text/plain": [
       "array(['PG-13', 'Unrated', 'PG', 'R', 'G', 'TV-14', 'TV-MA', 'TV-PG',\n",
       "       'NC-17', 'TV-Y7', 'TV-G', 'C13', 'Approved', 'C18', 'C16', 'C12',\n",
       "       'MA-17', 'TV-Y7-FV', 'AO', 'TV-Y', 'M', '(Banned)', 'C6', 'PG-12',\n",
       "       'GP', 'U', 'C7', 'C15', 'AL', 'C9'], dtype=object)"
      ]
     },
     "execution_count": 13,
     "metadata": {},
     "output_type": "execute_result"
    }
   ],
   "source": [
    "mask = (data['Certificate'] == '6+') | (data['Certificate'] == '6 +') | (data['Certificate'] == '6')\n",
    "data['Certificate'][mask] = 'C6'\n",
    "data['Certificate'].unique()"
   ]
  },
  {
   "cell_type": "code",
   "execution_count": 14,
   "id": "0c7ec4a4-8cdf-4410-869c-5371aed9ad2c",
   "metadata": {},
   "outputs": [
    {
     "name": "stderr",
     "output_type": "stream",
     "text": [
      "C:\\Users\\kingk\\AppData\\Local\\Temp\\ipykernel_15212\\2914913013.py:2: SettingWithCopyWarning: \n",
      "A value is trying to be set on a copy of a slice from a DataFrame\n",
      "\n",
      "See the caveats in the documentation: https://pandas.pydata.org/pandas-docs/stable/user_guide/indexing.html#returning-a-view-versus-a-copy\n",
      "  data['Certificate'][mask] = 'PG'\n"
     ]
    },
    {
     "data": {
      "text/plain": [
       "array(['PG-13', 'Unrated', 'PG', 'R', 'G', 'TV-14', 'TV-MA', 'TV-PG',\n",
       "       'NC-17', 'TV-Y7', 'TV-G', 'C13', 'Approved', 'C18', 'C16', 'C12',\n",
       "       'MA-17', 'TV-Y7-FV', 'AO', 'TV-Y', 'M', '(Banned)', 'C6', 'PG-12',\n",
       "       'GP', 'U', 'C7', 'C15', 'AL', 'C9'], dtype=object)"
      ]
     },
     "execution_count": 14,
     "metadata": {},
     "output_type": "execute_result"
    }
   ],
   "source": [
    "mask = (data['Certificate'] == '0+')\n",
    "data['Certificate'][mask] = 'PG'\n",
    "data['Certificate'].unique()"
   ]
  },
  {
   "cell_type": "code",
   "execution_count": 15,
   "id": "30c1d2ba-053f-4392-a385-f50979865df8",
   "metadata": {},
   "outputs": [
    {
     "name": "stderr",
     "output_type": "stream",
     "text": [
      "C:\\Users\\kingk\\AppData\\Local\\Temp\\ipykernel_15212\\1251197092.py:2: SettingWithCopyWarning: \n",
      "A value is trying to be set on a copy of a slice from a DataFrame\n",
      "\n",
      "See the caveats in the documentation: https://pandas.pydata.org/pandas-docs/stable/user_guide/indexing.html#returning-a-view-versus-a-copy\n",
      "  data['Certificate'][mask] = 'C7'\n"
     ]
    },
    {
     "data": {
      "text/plain": [
       "array(['PG-13', 'Unrated', 'PG', 'R', 'G', 'TV-14', 'TV-MA', 'TV-PG',\n",
       "       'NC-17', 'TV-Y7', 'TV-G', 'C13', 'Approved', 'C18', 'C16', 'C12',\n",
       "       'MA-17', 'TV-Y7-FV', 'AO', 'TV-Y', 'M', '(Banned)', 'C6', 'PG-12',\n",
       "       'GP', 'U', 'C7', 'C15', 'AL', 'C9'], dtype=object)"
      ]
     },
     "execution_count": 15,
     "metadata": {},
     "output_type": "execute_result"
    }
   ],
   "source": [
    "mask = (data['Certificate'] == 'R-12') | (data['Certificate'] == '7+') | (data['Certificate'] == '12')\n",
    "data['Certificate'][mask] = 'C7'\n",
    "data['Certificate'].unique()"
   ]
  },
  {
   "cell_type": "code",
   "execution_count": 16,
   "id": "04ddbfb8-e1d1-4b17-a76b-803abf7df075",
   "metadata": {},
   "outputs": [
    {
     "name": "stderr",
     "output_type": "stream",
     "text": [
      "C:\\Users\\kingk\\AppData\\Local\\Temp\\ipykernel_15212\\712986830.py:2: SettingWithCopyWarning: \n",
      "A value is trying to be set on a copy of a slice from a DataFrame\n",
      "\n",
      "See the caveats in the documentation: https://pandas.pydata.org/pandas-docs/stable/user_guide/indexing.html#returning-a-view-versus-a-copy\n",
      "  data['Certificate'][mask] = 'C9'\n"
     ]
    },
    {
     "data": {
      "text/plain": [
       "array(['PG-13', 'Unrated', 'PG', 'R', 'G', 'TV-14', 'TV-MA', 'TV-PG',\n",
       "       'NC-17', 'TV-Y7', 'TV-G', 'C13', 'Approved', 'C18', 'C16', 'C12',\n",
       "       'MA-17', 'TV-Y7-FV', 'AO', 'TV-Y', 'M', '(Banned)', 'C6', 'PG-12',\n",
       "       'GP', 'U', 'C7', 'C15', 'AL', 'C9'], dtype=object)"
      ]
     },
     "execution_count": 16,
     "metadata": {},
     "output_type": "execute_result"
    }
   ],
   "source": [
    "mask = (data['Certificate'] == 'R-12') | (data['Certificate'] == '12+') | (data['Certificate'] == '9')\n",
    "data['Certificate'][mask] = 'C9'\n",
    "data['Certificate'].unique()"
   ]
  },
  {
   "cell_type": "code",
   "execution_count": 17,
   "id": "cd83c458-cff7-49a8-9d50-53cedc28d328",
   "metadata": {},
   "outputs": [
    {
     "name": "stderr",
     "output_type": "stream",
     "text": [
      "C:\\Users\\kingk\\AppData\\Local\\Temp\\ipykernel_15212\\163063630.py:2: SettingWithCopyWarning: \n",
      "A value is trying to be set on a copy of a slice from a DataFrame\n",
      "\n",
      "See the caveats in the documentation: https://pandas.pydata.org/pandas-docs/stable/user_guide/indexing.html#returning-a-view-versus-a-copy\n",
      "  data['Certificate'][mask] = 'U'\n"
     ]
    },
    {
     "data": {
      "text/plain": [
       "array(['PG-13', 'Unrated', 'PG', 'R', 'G', 'TV-14', 'TV-MA', 'TV-PG',\n",
       "       'NC-17', 'TV-Y7', 'TV-G', 'C13', 'Approved', 'C18', 'C16', 'C12',\n",
       "       'MA-17', 'TV-Y7-FV', 'AO', 'TV-Y', 'M', '(Banned)', 'C6', 'PG-12',\n",
       "       'GP', 'U', 'C7', 'C15', 'AL', 'C9'], dtype=object)"
      ]
     },
     "execution_count": 17,
     "metadata": {},
     "output_type": "execute_result"
    }
   ],
   "source": [
    "mask = (data['Certificate'] == 'R-12') | (data['Certificate'] == '12+') | (data['Certificate'] == 'Universal')\n",
    "data['Certificate'][mask] = 'U'\n",
    "data['Certificate'].unique()"
   ]
  },
  {
   "cell_type": "code",
   "execution_count": 18,
   "id": "48be7f02-f7ce-4abd-abde-bf1459c4a99c",
   "metadata": {},
   "outputs": [
    {
     "name": "stderr",
     "output_type": "stream",
     "text": [
      "C:\\Users\\kingk\\AppData\\Local\\Temp\\ipykernel_15212\\3491999392.py:2: SettingWithCopyWarning: \n",
      "A value is trying to be set on a copy of a slice from a DataFrame\n",
      "\n",
      "See the caveats in the documentation: https://pandas.pydata.org/pandas-docs/stable/user_guide/indexing.html#returning-a-view-versus-a-copy\n",
      "  data['Certificate'][mask] = 'PG'\n"
     ]
    },
    {
     "data": {
      "text/plain": [
       "array(['PG-13', 'Unrated', 'PG', 'R', 'G', 'TV-14', 'TV-MA', 'TV-PG',\n",
       "       'NC-17', 'TV-Y7', 'TV-G', 'C13', 'Approved', 'C18', 'C16', 'C12',\n",
       "       'MA-17', 'TV-Y7-FV', 'AO', 'TV-Y', 'M', '(Banned)', 'C6', 'PG-12',\n",
       "       'GP', 'U', 'C7', 'C15', 'AL', 'C9'], dtype=object)"
      ]
     },
     "execution_count": 18,
     "metadata": {},
     "output_type": "execute_result"
    }
   ],
   "source": [
    "mask = (data['Certificate'] == 'R-12') | (data['Certificate'] == '12+') | (data['Certificate'] == 'P')\n",
    "data['Certificate'][mask] = 'PG'\n",
    "data['Certificate'].unique()"
   ]
  },
  {
   "cell_type": "code",
   "execution_count": 19,
   "id": "e33b5d37-0657-44d2-861b-f97f415ba631",
   "metadata": {},
   "outputs": [
    {
     "data": {
      "text/html": [
       "<div>\n",
       "<style scoped>\n",
       "    .dataframe tbody tr th:only-of-type {\n",
       "        vertical-align: middle;\n",
       "    }\n",
       "\n",
       "    .dataframe tbody tr th {\n",
       "        vertical-align: top;\n",
       "    }\n",
       "\n",
       "    .dataframe thead th {\n",
       "        text-align: right;\n",
       "    }\n",
       "</style>\n",
       "<table border=\"1\" class=\"dataframe\">\n",
       "  <thead>\n",
       "    <tr style=\"text-align: right;\">\n",
       "      <th></th>\n",
       "      <th>Name</th>\n",
       "      <th>Certificate</th>\n",
       "      <th>Poster</th>\n",
       "      <th>Genre</th>\n",
       "      <th>Director</th>\n",
       "      <th>Writer</th>\n",
       "      <th>Stars</th>\n",
       "      <th>Storyline</th>\n",
       "      <th>Rating</th>\n",
       "      <th>Rating Count</th>\n",
       "    </tr>\n",
       "  </thead>\n",
       "  <tbody>\n",
       "    <tr>\n",
       "      <th>0</th>\n",
       "      <td>The Dark Knight</td>\n",
       "      <td>PG-13</td>\n",
       "      <td>https://m.media-amazon.com/images/M/MV5BMTMxNT...</td>\n",
       "      <td>Action, Crime, Drama</td>\n",
       "      <td>Christopher Nolan</td>\n",
       "      <td>Jonathan Nolan, Christopher Nolan, David S. Goyer</td>\n",
       "      <td>Christian Bale, Heath Ledger, Aaron Eckhart, M...</td>\n",
       "      <td>When the menace known as the Joker wreaks havo...</td>\n",
       "      <td>9.0</td>\n",
       "      <td>2800000.0</td>\n",
       "    </tr>\n",
       "  </tbody>\n",
       "</table>\n",
       "</div>"
      ],
      "text/plain": [
       "              Name Certificate   \n",
       "0  The Dark Knight       PG-13  \\\n",
       "\n",
       "                                              Poster                 Genre   \n",
       "0  https://m.media-amazon.com/images/M/MV5BMTMxNT...  Action, Crime, Drama  \\\n",
       "\n",
       "            Director                                             Writer   \n",
       "0  Christopher Nolan  Jonathan Nolan, Christopher Nolan, David S. Goyer  \\\n",
       "\n",
       "                                               Stars   \n",
       "0  Christian Bale, Heath Ledger, Aaron Eckhart, M...  \\\n",
       "\n",
       "                                           Storyline  Rating  Rating Count  \n",
       "0  When the menace known as the Joker wreaks havo...     9.0     2800000.0  "
      ]
     },
     "execution_count": 19,
     "metadata": {},
     "output_type": "execute_result"
    }
   ],
   "source": [
    "data.head(1)"
   ]
  },
  {
   "cell_type": "code",
   "execution_count": 20,
   "id": "23a2c6d6-9460-4475-88dd-5cd070c4f139",
   "metadata": {},
   "outputs": [
    {
     "data": {
      "text/plain": [
       "(12851,)"
      ]
     },
     "execution_count": 20,
     "metadata": {},
     "output_type": "execute_result"
    }
   ],
   "source": [
    "data['Director'].unique().shape"
   ]
  },
  {
   "cell_type": "code",
   "execution_count": 21,
   "id": "5201af05-707f-4670-af4d-0ce9c0ae935c",
   "metadata": {},
   "outputs": [],
   "source": [
    "data = data[data.columns[~data.columns.isin(['Unnamed: 0'])]]"
   ]
  },
  {
   "cell_type": "code",
   "execution_count": 22,
   "id": "e56a9b07-754e-4b1a-9df1-0c5b659756e9",
   "metadata": {},
   "outputs": [],
   "source": [
    "data.to_csv(file_name, index=False)"
   ]
  },
  {
   "cell_type": "code",
   "execution_count": 24,
   "id": "967f6b78-ccf5-4e60-934e-4cac66b02a7f",
   "metadata": {},
   "outputs": [
    {
     "name": "stdout",
     "output_type": "stream",
     "text": [
      "<class 'pandas.core.series.Series'>\n",
      "RangeIndex: 23778 entries, 0 to 23777\n",
      "Series name: Certificate\n",
      "Non-Null Count  Dtype \n",
      "--------------  ----- \n",
      "23778 non-null  object\n",
      "dtypes: object(1)\n",
      "memory usage: 185.9+ KB\n"
     ]
    }
   ],
   "source": [
    "data['Certificate'].info()"
   ]
  },
  {
   "cell_type": "code",
   "execution_count": null,
   "id": "d8334482-68bb-43af-9804-26c062263c91",
   "metadata": {},
   "outputs": [],
   "source": []
  }
 ],
 "metadata": {
  "kernelspec": {
   "display_name": "Python 3 (ipykernel)",
   "language": "python",
   "name": "python3"
  },
  "language_info": {
   "codemirror_mode": {
    "name": "ipython",
    "version": 3
   },
   "file_extension": ".py",
   "mimetype": "text/x-python",
   "name": "python",
   "nbconvert_exporter": "python",
   "pygments_lexer": "ipython3",
   "version": "3.10.6"
  }
 },
 "nbformat": 4,
 "nbformat_minor": 5
}
